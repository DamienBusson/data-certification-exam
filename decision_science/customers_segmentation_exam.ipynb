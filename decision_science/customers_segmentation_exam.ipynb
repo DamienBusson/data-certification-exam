{
 "cells": [
  {
   "cell_type": "markdown",
   "metadata": {},
   "source": [
    "# Customers segmentation"
   ]
  },
  {
   "cell_type": "markdown",
   "metadata": {},
   "source": [
    "**Las Wagones** is a company selling IT equipment , from small consumable items to large printers. Las Wagones has identified 4 customers segments noted _A, B, C and D_. These segments have been identified by the Sales department based on a study of the historical buying behavior of the customers. The Marketing department is very interested in understanding who are the customers inside these segments at an early stage. They ordered you for a study. This study aims at understanding what are these 4 segments."
   ]
  },
  {
   "cell_type": "code",
   "execution_count": 40,
   "metadata": {
    "ExecuteTime": {
     "end_time": "2021-04-06T08:05:33.528150Z",
     "start_time": "2021-04-06T08:05:29.853313Z"
    }
   },
   "outputs": [],
   "source": [
    "import numpy as np\n",
    "import pandas as pd\n",
    "import matplotlib.pyplot as plt\n",
    "import seaborn as sns"
   ]
  },
  {
   "cell_type": "code",
   "execution_count": 1,
   "metadata": {
    "ExecuteTime": {
     "end_time": "2021-04-06T06:59:53.993315Z",
     "start_time": "2021-04-06T06:59:53.944251Z"
    }
   },
   "outputs": [],
   "source": [
    "# Load the nbresult package to be able to save your results \n",
    "from nbresult import ChallengeResult"
   ]
  },
  {
   "cell_type": "markdown",
   "metadata": {},
   "source": [
    "## Data collection (9.5%)"
   ]
  },
  {
   "cell_type": "markdown",
   "metadata": {},
   "source": [
    "### Loading data from the database"
   ]
  },
  {
   "cell_type": "markdown",
   "metadata": {},
   "source": [
    "Download the `customers.sqlite` database from this [URL](https://wagon-public-datasets.s3.amazonaws.com/certification_paris_2021Q1/customers.sqlite) and store it inside the `db` folder:"
   ]
  },
  {
   "cell_type": "code",
   "execution_count": 2,
   "metadata": {
    "ExecuteTime": {
     "end_time": "2021-04-06T07:00:20.543846Z",
     "start_time": "2021-04-06T07:00:19.407071Z"
    }
   },
   "outputs": [
    {
     "name": "stdout",
     "output_type": "stream",
     "text": [
      "  % Total    % Received % Xferd  Average Speed   Time    Time     Time  Current\n",
      "                                 Dload  Upload   Total   Spent    Left  Speed\n",
      "100  608k  100  608k    0     0   677k      0 --:--:-- --:--:-- --:--:--  677k\n"
     ]
    }
   ],
   "source": [
    "!curl https://wagon-public-datasets.s3.amazonaws.com/certification_paris_2021Q1/customers.sqlite >> db/customers.sqlite"
   ]
  },
  {
   "cell_type": "markdown",
   "metadata": {},
   "source": [
    "#### Database schema"
   ]
  },
  {
   "cell_type": "markdown",
   "metadata": {},
   "source": [
    "**📝 Open the `db/customers.sqlite` from your favorite SQL client and draw the database schema on the [schema editor](https://kitt.lewagon.com/db) on Kitt. Save the schema as `customers.xml` in the `db` folder.**"
   ]
  },
  {
   "cell_type": "markdown",
   "metadata": {},
   "source": [
    "#### Querying the data"
   ]
  },
  {
   "cell_type": "markdown",
   "metadata": {},
   "source": [
    "We want to get the following information about **all** the 8068 customers from the database:\n",
    "- `id`: the unique identifier of the customer\n",
    "- `gender`: customer's gender\n",
    "- `married`: whether or not the customer has ever been married\n",
    "- `age`: customer's age\n",
    "- `graduated`: whether or not the customer has a degree\n",
    "- `score`: customer's spending score (first order)\n",
    "- `family_size`: the number of members of the customer's family, including the customer\n",
    "- `profession`: customer's profession\n",
    "- `work_experience`: customer's work experience in years\n",
    "- `segment`: the segment the customer belongs to"
   ]
  },
  {
   "cell_type": "markdown",
   "metadata": {},
   "source": [
    "**📝 Write the SQL query you need to fetch the data. Save it as a `str` in the `query` variable.**"
   ]
  },
  {
   "cell_type": "code",
   "execution_count": 27,
   "metadata": {
    "ExecuteTime": {
     "end_time": "2021-04-06T07:59:25.222590Z",
     "start_time": "2021-04-06T07:59:25.217537Z"
    }
   },
   "outputs": [],
   "source": [
    "query = '''WITH first_table AS (\n",
    "SELECT \tc.*,\n",
    "\t\tCOUNT(r.id) AS family_size,\n",
    "\t\te.duration AS work_experience,\n",
    "\t\te.profession_id AS profession_id\n",
    "FROM customers c\n",
    "\tLEFT JOIN relatives r ON c.id = r.customer_id \n",
    "\tLEFT JOIN experiences e ON c.id = e.customer_id\n",
    "GROUP BY c.id\n",
    ")\n",
    "SELECT \tfirst_table.*,\n",
    "\t\tp.category AS profession\n",
    "FROM first_table\n",
    "\tLEFT JOIN professions p ON first_table.profession_id = p.id'''"
   ]
  },
  {
   "cell_type": "markdown",
   "metadata": {},
   "source": [
    "**📝 Connect to the database, execute the query and store the results into a `DataFrame` named `data`. Display the 10 first rows and the shape of the dataset.**"
   ]
  },
  {
   "cell_type": "code",
   "execution_count": 4,
   "metadata": {
    "ExecuteTime": {
     "end_time": "2021-04-06T07:50:02.144102Z",
     "start_time": "2021-04-06T07:50:02.122546Z"
    }
   },
   "outputs": [
    {
     "data": {
      "text/plain": [
       "'/Users/Dam/code/DamienBusson/data-certification-exam/decision_science'"
      ]
     },
     "execution_count": 4,
     "metadata": {},
     "output_type": "execute_result"
    }
   ],
   "source": [
    "import os\n",
    "os.getcwd()"
   ]
  },
  {
   "cell_type": "code",
   "execution_count": 28,
   "metadata": {
    "ExecuteTime": {
     "end_time": "2021-04-06T07:59:26.716703Z",
     "start_time": "2021-04-06T07:59:26.635950Z"
    }
   },
   "outputs": [],
   "source": [
    "import sqlite3\n",
    "\n",
    "conn = sqlite3.connect('db/customers.sqlite')\n",
    "c = conn.cursor()\n",
    "c.execute(query)\n",
    "data_raw = c.fetchall()"
   ]
  },
  {
   "cell_type": "code",
   "execution_count": 29,
   "metadata": {
    "ExecuteTime": {
     "end_time": "2021-04-06T07:59:29.564282Z",
     "start_time": "2021-04-06T07:59:29.237540Z"
    }
   },
   "outputs": [
    {
     "data": {
      "text/plain": [
       "[(1, 'Male', 'No', 'No', '22', 'Low', 'D', 3, 1, 1, 'Healthcare'),\n",
       " (2, 'Female', 'Yes', 'Yes', '38', 'Average', 'A', 2, None, 2, 'Engineer'),\n",
       " (3, 'Female', 'Yes', 'Yes', '67', 'Low', 'B', 0, 1, 2, 'Engineer'),\n",
       " (4, 'Male', 'Yes', 'Yes', '67', 'High', 'B', 1, 0, 3, 'Lawyer'),\n",
       " (5, 'Female', 'Yes', 'Yes', '40', 'High', 'A', 5, None, 4, 'Entertainment'),\n",
       " (6, 'Male', 'Yes', 'No', '56', 'Average', 'C', 1, 0, 5, 'Artist'),\n",
       " (7, 'Male', 'No', 'Yes', '32', 'Low', 'C', 2, 1, 1, 'Healthcare'),\n",
       " (8, 'Female', 'No', 'Yes', '33', 'Low', 'D', 2, 1, 1, 'Healthcare'),\n",
       " (9, 'Female', 'Yes', 'Yes', '61', 'Low', 'D', 2, 0, 2, 'Engineer'),\n",
       " (10, 'Female', 'Yes', 'Yes', '55', 'Average', 'C', 3, 1, 5, 'Artist'),\n",
       " (11, 'Female', 'No', 'Yes', '26', 'Low', 'A', 2, 1, 2, 'Engineer'),\n",
       " (12, 'Male', 'No', 'No', '19', 'Low', 'D', 3, 4, 1, 'Healthcare'),\n",
       " (13, 'Female', 'No', 'No', '19', 'Low', 'D', 0, 0, 6, 'Executive'),\n",
       " (14, 'Male', 'Yes', 'No', '70', 'Low', 'A', 0, None, 3, 'Lawyer'),\n",
       " (15, 'Female', 'Yes', 'No', '58', 'Low', 'B', 0, 0, 7, 'Doctor'),\n",
       " (16, 'Female', 'No', 'No', '41', 'Low', 'C', 1, 1, 1, 'Healthcare'),\n",
       " (17, 'Female', 'No', 'No', '32', 'Low', 'D', 4, 9, 8, 'Homemaker'),\n",
       " (18, 'Male', 'No', 'No', '31', 'Low', 'B', 5, 1, 1, 'Healthcare'),\n",
       " (19, 'Male', 'Yes', 'Yes', '58', 'Average', 'B', 3, 1, 4, 'Entertainment'),\n",
       " (20, 'Female', 'Yes', 'Yes', '79', 'High', 'C', 0, 0, 5, 'Artist'),\n",
       " (21, 'Male', 'Yes', 'Yes', '49', 'Low', 'A', 0, 12, 8, 'Homemaker'),\n",
       " (22, 'Female', 'No', 'No', '18', 'Low', 'D', 3, 3, 1, 'Healthcare'),\n",
       " (23, 'Male', 'Yes', 'Yes', '33', 'Low', 'A', 1, 13, 5, 'Artist'),\n",
       " (24, 'Female', 'No', 'Yes', '36', 'Low', 'B', 1, 5, 5, 'Artist'),\n",
       " (25, 'Female', 'nan', 'No', '58', 'Average', 'B', 2, 1, 6, 'Executive'),\n",
       " (26, 'Male', 'Yes', 'No', '56', 'Average', 'C', 2, 1, 5, 'Artist'),\n",
       " (27, 'Male', 'No', 'No', '31', 'Low', 'A', 7, 9, 1, 'Healthcare'),\n",
       " (28, 'Male', 'Yes', 'Yes', '49', 'Average', 'C', 2, 1, 5, 'Artist'),\n",
       " (29, 'Male', 'No', 'Yes', '35', 'Low', 'B', 0, 0, 5, 'Artist'),\n",
       " (30, 'Female', 'No', 'No', '35', 'Low', 'C', 3, 5, 5, 'Artist'),\n",
       " (31, 'Female', 'Yes', 'Yes', '45', 'Low', 'C', 2, 0, 5, 'Artist'),\n",
       " (32, 'Female', 'Yes', 'No', '42', 'Low', 'A', 1, 1, 7, 'Doctor'),\n",
       " (33, 'Male', 'No', 'No', '19', 'Low', 'D', 2, 1, 1, 'Healthcare'),\n",
       " (34, 'Male', 'No', 'No', '26', 'Low', 'D', 0, 9, 8, 'Homemaker'),\n",
       " (35, 'Female', 'Yes', 'No', '83', 'High', 'D', 1, 1, 3, 'Lawyer'),\n",
       " (36, 'Female', 'No', 'Yes', '27', 'Low', 'D', 3, 3, 1, 'Healthcare'),\n",
       " (37, 'Male', 'No', 'No', '32', 'Low', 'D', 0, 5, 7, 'Doctor'),\n",
       " (38, 'Female', 'Yes', 'No', '28', 'Average', 'D', 4, 1, 1, 'Healthcare'),\n",
       " (39, 'Female', 'Yes', 'Yes', '28', 'Low', 'A', 1, 8, 5, 'Artist'),\n",
       " (40, 'Male', 'Yes', 'Yes', '56', 'Average', 'C', 1, None, 5, 'Artist'),\n",
       " (41, 'Female', 'No', 'Yes', '47', 'Low', 'B', 0, 4, 5, 'Artist'),\n",
       " (42, 'Female', 'No', 'No', '22', 'Low', 'D', 1, 0, 1, 'Healthcare'),\n",
       " (43, 'Female', 'No', 'Yes', '27', 'Low', 'A', 2, 14, 5, 'Artist'),\n",
       " (44, 'Female', 'Yes', 'Yes', '49', 'Low', 'C', 1, 1, 5, 'Artist'),\n",
       " (45, 'Male', 'Yes', 'No', '40', 'Low', 'A', 0, 8, 2, 'Engineer'),\n",
       " (46, 'Female', 'Yes', 'No', '79', 'High', 'A', 1, None, 3, 'Lawyer'),\n",
       " (47, 'Male', 'Yes', 'Yes', '41', 'Average', 'B', 3, 0, 5, 'Artist'),\n",
       " (48, 'Female', 'No', 'Yes', '29', 'Low', 'A', 0, None, 1, 'Healthcare'),\n",
       " (49, 'Male', 'No', 'No', '19', 'Low', 'D', 3, 0, 1, 'Healthcare'),\n",
       " (50, 'Female', 'No', 'Yes', '45', 'Low', 'A', 0, 1, 2, 'Engineer'),\n",
       " (51, 'Female', 'Yes', 'No', '61', 'Average', 'B', 1, 1, 5, 'Artist'),\n",
       " (52, 'Female', 'Yes', 'Yes', '36', 'Average', 'C', 1, 1, 5, 'Artist'),\n",
       " (53, 'Male', 'Yes', 'Yes', '40', 'Low', 'A', 0, 1, 5, 'Artist'),\n",
       " (54, 'Female', 'Yes', 'Yes', '57', 'Average', 'C', 1, 0, 4, 'Entertainment'),\n",
       " (55, 'Male', 'Yes', 'No', '76', 'Low', 'A', 0, 1, 9, 'Marketing'),\n",
       " (56, 'Male', 'Yes', 'Yes', '32', 'Average', 'B', 1, 14, 5, 'Artist'),\n",
       " (57, 'Male', 'No', 'Yes', '25', 'Low', 'D', 3, 9, 1, 'Healthcare'),\n",
       " (58, 'Male', 'No', 'nan', '32', 'Low', 'D', 1, 8, 7, 'Doctor'),\n",
       " (59, 'Female', 'Yes', 'Yes', '45', 'Average', 'C', 2, 1, 5, 'Artist'),\n",
       " (60, 'Male', 'Yes', 'Yes', '72', 'Low', 'D', 0, 1, 3, 'Lawyer'),\n",
       " (61, 'Male', 'Yes', 'Yes', '48', 'Average', 'C', 1, 0, 5, 'Artist'),\n",
       " (62, 'Male', 'Yes', 'Yes', '55', 'Average', 'C', 1, 9, 5, 'Artist'),\n",
       " (63, 'Male', 'Yes', 'Yes', '74', 'High', 'D', 2, 0, 3, 'Lawyer'),\n",
       " (64, 'Male', 'Yes', 'Yes', '56', 'High', 'A', 1, 1, 3, 'Lawyer'),\n",
       " (65, 'Male', 'Yes', 'Yes', '59', 'High', 'A', 1, 7, 3, 'Lawyer'),\n",
       " (66, 'Male', 'No', 'Yes', '25', 'Low', 'A', 1, 0, 4, 'Entertainment'),\n",
       " (67, 'Male', 'Yes', 'Yes', '31', 'Average', 'A', 1, 0, 7, 'Doctor'),\n",
       " (68, 'Male', 'No', 'No', '27', 'Low', 'A', 3, 8, 5, 'Artist'),\n",
       " (69, 'Male', 'Yes', 'Yes', '57', 'Average', 'B', 3, 0, 5, 'Artist'),\n",
       " (70, 'Female', 'Yes', 'Yes', '39', 'High', 'A', 1, None, 8, 'Homemaker'),\n",
       " (71, 'Male', 'Yes', 'Yes', '27', 'Low', 'D', 1, 8, 1, 'Healthcare'),\n",
       " (72, 'Female', 'Yes', 'Yes', '51', 'Average', 'A', 1, 8, 4, 'Entertainment'),\n",
       " (73, 'Female', 'Yes', 'No', '47', 'Average', 'B', 4, 0, 5, 'Artist'),\n",
       " (74, 'Female', 'No', 'No', '33', 'Low', 'D', 3, 8, 1, 'Healthcare'),\n",
       " (75, 'Male', 'Yes', 'Yes', '56', 'Average', 'C', 3, 0, 5, 'Artist'),\n",
       " (76, 'Female', 'No', 'No', '33', 'Low', 'B', 2, 0, 8, 'Homemaker'),\n",
       " (77, 'Female', 'No', 'Yes', '36', 'Low', 'D', 1, 0, 7, 'Doctor'),\n",
       " (78, 'Male', 'Yes', 'No', '51', 'Low', 'A', 2, 4, 5, 'Artist'),\n",
       " (79, 'Male', 'Yes', 'Yes', '45', 'Average', 'C', 1, 2, 2, 'Engineer'),\n",
       " (80, 'Female', 'No', 'Yes', '49', 'Low', 'D', 0, None, None, None),\n",
       " (81, 'Male', 'No', 'No', '30', 'Low', 'C', 3, 0, 1, 'Healthcare'),\n",
       " (82, 'Female', 'No', 'No', '26', 'Low', 'D', 2, 6, 1, 'Healthcare'),\n",
       " (83, 'Male', 'Yes', 'Yes', '63', 'Low', 'A', 0, 8, 5, 'Artist'),\n",
       " (84, 'Male', 'Yes', 'No', '35', 'Average', 'B', 3, 8, 4, 'Entertainment'),\n",
       " (85, 'Female', 'No', 'No', '19', 'Low', 'A', 2, 1, 9, 'Marketing'),\n",
       " (86, 'Male', 'No', 'No', '32', 'Low', 'D', 4, 7, 1, 'Healthcare'),\n",
       " (87, 'Male', 'Yes', 'Yes', '52', 'Average', 'C', 2, 0, 5, 'Artist'),\n",
       " (88, 'Female', 'Yes', 'Yes', '36', 'Low', 'C', 1, 5, 5, 'Artist'),\n",
       " (89, 'Female', 'No', 'No', '42', 'Low', 'D', 2, 7, 4, 'Entertainment'),\n",
       " (90, 'Male', 'Yes', 'No', '40', 'Average', 'D', 1, 0, 7, 'Doctor'),\n",
       " (91, 'Male', 'No', 'Yes', '39', 'Low', 'B', 2, 0, 4, 'Entertainment'),\n",
       " (92, 'Female', 'Yes', 'Yes', '47', 'Average', 'C', 3, 1, 5, 'Artist'),\n",
       " (93, 'Female', 'Yes', 'Yes', '61', 'High', 'C', 1, 1, 5, 'Artist'),\n",
       " (94, 'Male', 'Yes', 'No', '32', 'Low', 'D', 1, 1, 4, 'Entertainment'),\n",
       " (95, 'Male', 'Yes', 'No', '55', 'Low', 'B', 0, 0, 5, 'Artist'),\n",
       " (96, 'Male', 'Yes', 'Yes', '58', 'Average', 'D', 0, None, 5, 'Artist'),\n",
       " (97, 'Female', 'No', 'Yes', '38', 'Low', 'D', 0, 0, 5, 'Artist'),\n",
       " (98, 'Male', 'Yes', 'Yes', '63', 'High', 'C', 1, 0, 5, 'Artist'),\n",
       " (99, 'Male', 'Yes', 'Yes', '58', 'Average', 'C', 1, 1, 7, 'Doctor'),\n",
       " (100, 'Male', 'Yes', 'No', '30', 'Average', 'D', 2, 3, 2, 'Engineer'),\n",
       " (101, 'Male', 'Yes', 'Yes', '60', 'Average', 'C', 3, 0, 5, 'Artist'),\n",
       " (102, 'Male', 'Yes', 'No', '68', 'High', 'B', 6, 1, 6, 'Executive'),\n",
       " (103, 'Male', 'Yes', 'No', '52', 'Low', 'A', 2, 0, 5, 'Artist'),\n",
       " (104, 'Male', 'Yes', 'No', '38', 'High', 'A', 4, 0, 6, 'Executive'),\n",
       " (105, 'Female', 'Yes', 'Yes', '35', 'Low', 'B', 1, 10, 1, 'Healthcare'),\n",
       " (106, 'Male', 'No', 'No', '18', 'Low', 'D', 1, 1, 7, 'Doctor'),\n",
       " (107, 'Male', 'Yes', 'Yes', '30', 'Low', 'D', 1, 3, 8, 'Homemaker'),\n",
       " (108, 'Male', 'No', 'No', '86', 'Low', 'D', 0, 1, 3, 'Lawyer'),\n",
       " (109, 'Female', 'nan', 'No', '19', 'Low', 'D', 4, 6, 1, 'Healthcare'),\n",
       " (110, 'Male', 'No', 'No', '25', 'Low', 'D', 2, 9, 1, 'Healthcare'),\n",
       " (111, 'Male', 'Yes', 'Yes', '59', 'Low', 'A', 3, None, 4, 'Entertainment'),\n",
       " (112, 'Female', 'No', 'Yes', '39', 'Low', 'A', 0, 0, 5, 'Artist'),\n",
       " (113, 'Female', 'Yes', 'Yes', '50', 'Low', 'B', 0, 1, 7, 'Doctor'),\n",
       " (114, 'Male', 'No', 'Yes', '47', 'Low', 'C', 0, 1, 5, 'Artist'),\n",
       " (115, 'Male', 'Yes', 'Yes', '43', 'High', 'D', 2, 0, 6, 'Executive'),\n",
       " (116, 'Male', 'Yes', 'No', '36', 'Average', 'B', 3, 8, 6, 'Executive'),\n",
       " (117, 'Male', 'Yes', 'No', '80', 'Low', 'D', 0, 1, 3, 'Lawyer'),\n",
       " (118, 'Male', 'No', 'Yes', '36', 'Low', 'C', 1, 0, 5, 'Artist'),\n",
       " (119, 'Male', 'No', 'No', '27', 'Low', 'D', 6, None, None, None),\n",
       " (120, 'Female', 'Yes', 'Yes', '37', 'High', 'A', 1, 1, 5, 'Artist'),\n",
       " (121, 'Male', 'Yes', 'Yes', '46', 'High', 'C', 2, 0, 6, 'Executive'),\n",
       " (122, 'Male', 'Yes', 'No', '55', 'High', 'B', 3, 1, 6, 'Executive'),\n",
       " (123, 'Female', 'Yes', 'No', '47', 'Average', 'B', 3, 9, 2, 'Engineer'),\n",
       " (124, 'Female', 'No', 'Yes', '28', 'Low', 'D', 2, 1, 1, 'Healthcare'),\n",
       " (125, 'Male', 'Yes', 'No', '39', 'Low', 'D', 1, 9, 4, 'Entertainment'),\n",
       " (126, 'Female', 'Yes', 'No', '27', 'Low', 'A', 1, 1, 9, 'Marketing'),\n",
       " (127, 'Female', 'Yes', 'No', '42', 'Low', 'A', 0, 0, 2, 'Engineer'),\n",
       " (128, 'Male', 'Yes', 'Yes', '72', 'Average', 'C', 1, 0, 5, 'Artist'),\n",
       " (129, 'Female', 'Yes', 'Yes', '28', 'Low', 'A', 1, 0, 2, 'Engineer'),\n",
       " (130, 'Male', 'No', 'Yes', '35', 'Low', 'C', 4, 8, 4, 'Entertainment'),\n",
       " (131, 'Male', 'Yes', 'Yes', '39', 'High', 'A', 4, 9, 6, 'Executive'),\n",
       " (132, 'Female', 'Yes', 'Yes', '69', 'High', 'C', 1, 0, 3, 'Lawyer'),\n",
       " (133, 'Male', 'No', 'No', '18', 'Low', 'D', 3, 6, 1, 'Healthcare'),\n",
       " (134, 'Male', 'Yes', 'Yes', '46', 'Low', 'A', 0, None, 5, 'Artist'),\n",
       " (135, 'Female', 'Yes', 'Yes', '50', 'High', 'B', 1, 1, 2, 'Engineer'),\n",
       " (136, 'Male', 'No', 'No', '30', 'Low', 'A', 4, 5, 6, 'Executive'),\n",
       " (137, 'Female', 'No', 'No', '41', 'Low', 'B', 1, None, 5, 'Artist'),\n",
       " (138, 'Female', 'No', 'Yes', '39', 'Low', 'D', 3, 3, 5, 'Artist'),\n",
       " (139, 'Female', 'No', 'No', '29', 'Low', 'D', 3, 8, 9, 'Marketing'),\n",
       " (140, 'Female', 'Yes', 'Yes', '37', 'Low', 'B', 3, 4, 5, 'Artist'),\n",
       " (141, 'Female', 'Yes', 'Yes', '39', 'Average', 'A', 1, 0, 2, 'Engineer'),\n",
       " (142, 'Female', 'Yes', 'Yes', '48', 'Average', 'C', 4, 0, 5, 'Artist'),\n",
       " (143, 'Female', 'No', 'Yes', '32', 'Low', 'C', 2, 0, 7, 'Doctor'),\n",
       " (144, 'Male', 'Yes', 'No', '78', 'Low', 'B', 0, 1, 3, 'Lawyer'),\n",
       " (145, 'Female', 'Yes', 'No', '43', 'Average', 'B', 4, 0, 2, 'Engineer'),\n",
       " (146, 'Male', 'No', 'No', '29', 'Low', 'C', 4, 8, 9, 'Marketing'),\n",
       " (147, 'Female', 'Yes', 'No', '28', 'Average', 'A', 1, 9, 2, 'Engineer'),\n",
       " (148, 'Male', 'Yes', 'Yes', '80', 'Low', 'B', 0, 1, 3, 'Lawyer'),\n",
       " (149, 'Female', 'No', 'Yes', '28', 'Low', 'D', 3, 7, 1, 'Healthcare'),\n",
       " (150, 'Male', 'Yes', 'Yes', '71', 'Average', 'C', 2, 6, 5, 'Artist'),\n",
       " (151, 'Male', 'Yes', 'No', '67', 'High', 'A', 8, 0, 3, 'Lawyer'),\n",
       " (152, 'Female', 'No', 'No', '26', 'Low', 'A', 0, 0, 2, 'Engineer'),\n",
       " (153, 'Female', 'Yes', 'Yes', '47', 'Average', 'C', 1, 0, 2, 'Engineer'),\n",
       " (154, 'Female', 'Yes', 'Yes', '43', 'Average', 'B', 1, 2, 5, 'Artist'),\n",
       " (155, 'Female', 'No', 'Yes', '27', 'Low', 'C', 3, 0, 1, 'Healthcare'),\n",
       " (156, 'Female', 'Yes', 'Yes', '45', 'Low', 'D', 3, 8, 9, 'Marketing'),\n",
       " (157, 'Male', 'Yes', 'No', '76', 'Low', 'C', 0, 1, 6, 'Executive'),\n",
       " (158, 'Female', 'Yes', 'Yes', '43', 'Average', 'C', 3, 3, 5, 'Artist'),\n",
       " (159, 'Female', 'Yes', 'Yes', '78', 'High', 'B', 1, 1, 3, 'Lawyer'),\n",
       " (160, 'Male', 'Yes', 'Yes', '35', 'Average', 'C', 2, 3, 5, 'Artist'),\n",
       " (161, 'Female', 'No', 'Yes', '49', 'Low', 'C', 0, 1, 5, 'Artist'),\n",
       " (162, 'Female', 'No', 'Yes', '25', 'Low', 'D', 4, 1, 1, 'Healthcare'),\n",
       " (163, 'Male', 'Yes', 'No', '37', 'Average', 'A', 4, 0, 6, 'Executive'),\n",
       " (164, 'Female', 'No', 'No', '32', 'Low', 'C', 4, 1, 1, 'Healthcare'),\n",
       " (165, 'Male', 'Yes', 'Yes', '60', 'Average', 'C', 1, 0, 7, 'Doctor'),\n",
       " (166, 'Female', 'Yes', 'Yes', '45', 'Average', 'C', 2, 5, 5, 'Artist'),\n",
       " (167, 'Female', 'Yes', 'Yes', '49', 'Average', 'C', 2, 9, 8, 'Homemaker'),\n",
       " (168, 'Male', 'No', 'Yes', '32', 'Low', 'D', 4, 0, 5, 'Artist'),\n",
       " (169, 'Female', 'Yes', 'Yes', '40', 'Low', 'B', 2, 0, 5, 'Artist'),\n",
       " (170, 'Male', 'Yes', 'No', '59', 'Average', 'C', 1, 2, 5, 'Artist'),\n",
       " (171, 'Male', 'Yes', 'Yes', '48', 'Low', 'B', 4, 3, 5, 'Artist'),\n",
       " (172, 'Male', 'Yes', 'Yes', '82', 'High', 'C', 1, 0, 6, 'Executive'),\n",
       " (173, 'Female', 'Yes', 'Yes', '70', 'Low', 'B', 1, 0, 3, 'Lawyer'),\n",
       " (174, 'Male', 'No', 'Yes', '31', 'Low', 'B', 1, 5, 5, 'Artist'),\n",
       " (175, 'Female', 'Yes', 'Yes', '72', 'High', 'C', 1, 0, 3, 'Lawyer'),\n",
       " (176, 'Male', 'Yes', 'Yes', '50', 'Average', 'C', 3, 3, 5, 'Artist'),\n",
       " (177, 'Female', 'No', 'No', '23', 'Low', 'D', 0, 11, 2, 'Engineer'),\n",
       " (178, 'Female', 'No', 'No', '20', 'Low', 'D', 5, 2, 1, 'Healthcare'),\n",
       " (179, 'Female', 'No', 'No', '22', 'Low', 'D', 2, 4, 1, 'Healthcare'),\n",
       " (180, 'Female', 'No', 'Yes', '31', 'Low', 'A', 0, 8, 2, 'Engineer'),\n",
       " (181, 'Female', 'Yes', 'Yes', '36', 'Average', 'C', 1, 7, 5, 'Artist'),\n",
       " (182, 'Male', 'Yes', 'No', '52', 'Average', 'B', 4, None, 4, 'Entertainment'),\n",
       " (183, 'Female', 'No', 'Yes', '29', 'Low', 'B', 0, None, 5, 'Artist'),\n",
       " (184, 'Male', 'Yes', 'Yes', '40', 'Average', 'C', 3, 4, 5, 'Artist'),\n",
       " (185, 'Female', 'No', 'Yes', '40', 'Low', 'A', 0, 1, 5, 'Artist'),\n",
       " (186, 'Male', 'Yes', 'Yes', '38', 'Low', 'C', 1, None, 5, 'Artist'),\n",
       " (187, 'Female', 'Yes', 'No', '85', 'Low', 'A', 0, None, 3, 'Lawyer'),\n",
       " (188, 'Female', 'No', 'No', '21', 'Low', 'A', 2, 1, 7, 'Doctor'),\n",
       " (189, 'Female', 'Yes', 'No', '41', 'Average', 'D', 1, 4, 2, 'Engineer'),\n",
       " (190, 'Male', 'Yes', 'Yes', '40', 'Low', 'B', 1, 0, 5, 'Artist'),\n",
       " (191, 'Male', 'Yes', 'Yes', '53', 'Average', 'B', 2, 1, 5, 'Artist'),\n",
       " (192, 'Female', 'Yes', 'Yes', '42', 'Low', 'C', 1, 5, 5, 'Artist'),\n",
       " (193, 'Male', 'Yes', 'No', '42', 'Low', 'D', 1, 8, 6, 'Executive'),\n",
       " (194, 'Male', 'Yes', 'Yes', '48', 'Average', 'C', 3, None, 5, 'Artist'),\n",
       " (195, 'Male', 'Yes', 'Yes', '59', 'Low', 'C', 1, 7, 5, 'Artist'),\n",
       " (196, 'Male', 'Yes', 'Yes', '41', 'Average', 'A', 2, 1, 6, 'Executive'),\n",
       " (197, 'Female', 'Yes', 'Yes', '31', 'Average', 'A', 1, 0, 5, 'Artist'),\n",
       " (198, 'Female', 'Yes', 'Yes', '49', 'High', 'B', 4, 1, 5, 'Artist'),\n",
       " (199, 'Male', 'Yes', 'Yes', '67', 'Low', 'A', 1, 1, 6, 'Executive'),\n",
       " (200, 'Male', 'Yes', 'No', '35', 'Average', 'B', 1, 4, 5, 'Artist'),\n",
       " (201, 'Female', 'No', 'Yes', '26', 'Low', 'C', 2, 0, 1, 'Healthcare'),\n",
       " (202, 'Male', 'nan', 'No', '19', 'Low', 'D', 2, 9, 1, 'Healthcare'),\n",
       " (203, 'Female', 'Yes', 'No', '25', 'Average', 'D', 7, 6, 2, 'Engineer'),\n",
       " (204, 'Female', 'Yes', 'Yes', '39', 'Low', 'A', 1, 4, 1, 'Healthcare'),\n",
       " (205, 'Male', 'Yes', 'Yes', '63', 'Low', 'A', 1, 0, 4, 'Entertainment'),\n",
       " (206, 'Male', 'No', 'No', '23', 'Low', 'D', 2, 8, 1, 'Healthcare'),\n",
       " (207, 'Female', 'No', 'No', '23', 'Low', 'D', 2, 0, 1, 'Healthcare'),\n",
       " (208, 'Female', 'Yes', 'Yes', '53', 'Low', 'C', 0, 2, 5, 'Artist'),\n",
       " (209, 'Male', 'No', 'Yes', '33', 'Low', 'B', 1, 0, 7, 'Doctor'),\n",
       " (210, 'Female', 'Yes', 'No', '50', 'Average', 'B', 3, None, 2, 'Engineer'),\n",
       " (211, 'Female', 'Yes', 'Yes', '69', 'Low', 'B', 1, 0, 2, 'Engineer'),\n",
       " (212, 'Male', 'No', 'Yes', '37', 'Low', 'B', 0, 2, 5, 'Artist'),\n",
       " (213, 'Female', 'No', 'No', '20', 'Low', 'C', 3, 3, 9, 'Marketing'),\n",
       " (214, 'Female', 'nan', 'No', '85', 'High', 'C', 0, 0, 3, 'Lawyer'),\n",
       " (215, 'Female', 'Yes', 'Yes', '49', 'Average', 'C', 3, 1, 7, 'Doctor'),\n",
       " (216, 'Male', 'No', 'No', '18', 'Low', 'D', 2, 0, 1, 'Healthcare'),\n",
       " (217, 'Female', 'Yes', 'Yes', '52', 'Average', 'C', 1, 0, 7, 'Doctor'),\n",
       " (218, 'Male', 'Yes', 'No', '25', 'Average', 'B', 1, None, 7, 'Doctor'),\n",
       " (219, 'Male', 'Yes', 'No', '56', 'High', 'A', 1, None, 6, 'Executive'),\n",
       " (220, 'Male', 'No', 'Yes', '62', 'Low', 'A', 0, None, None, None),\n",
       " (221, 'Female', 'No', 'nan', '35', 'Low', 'B', 2, 0, 5, 'Artist'),\n",
       " (222, 'Male', 'Yes', 'Yes', '28', 'Average', 'A', 1, 0, 2, 'Engineer'),\n",
       " (223, 'Female', 'No', 'Yes', '28', 'Low', 'A', 2, 7, 5, 'Artist'),\n",
       " (224, 'Male', 'No', 'No', '20', 'Low', 'D', 4, 0, 1, 'Healthcare'),\n",
       " (225, 'Female', 'No', 'No', '27', 'Low', 'D', 0, 8, 8, 'Homemaker'),\n",
       " (226, 'Female', 'No', 'No', '56', 'Low', 'A', 0, None, 2, 'Engineer'),\n",
       " (227, 'Male', 'Yes', 'Yes', '45', 'Average', 'B', 3, 4, 5, 'Artist'),\n",
       " (228, 'Male', 'No', 'Yes', '25', 'Low', 'B', 3, 1, 1, 'Healthcare'),\n",
       " (229, 'Male', 'No', 'No', '40', 'Low', 'D', 0, 1, 9, 'Marketing'),\n",
       " (230, 'Female', 'Yes', 'Yes', '25', 'Low', 'D', 1, None, 1, 'Healthcare'),\n",
       " (231, 'Female', 'Yes', 'No', '74', 'High', 'D', 1, None, 3, 'Lawyer'),\n",
       " (232, 'Female', 'No', 'No', '23', 'Low', 'D', 3, 0, 1, 'Healthcare'),\n",
       " (233, 'Female', 'Yes', 'Yes', '67', 'High', 'B', 1, 0, 3, 'Lawyer'),\n",
       " (234, 'Male', 'No', 'No', '21', 'Low', 'D', 3, 0, 1, 'Healthcare'),\n",
       " (235, 'Female', 'No', 'Yes', '38', 'Low', 'A', 0, 9, 5, 'Artist'),\n",
       " (236, 'Male', 'No', 'No', '28', 'Low', 'C', 3, 0, 1, 'Healthcare'),\n",
       " (237, 'Female', 'No', 'No', '32', 'Low', 'B', 4, 1, 1, 'Healthcare'),\n",
       " (238, 'Female', 'No', 'Yes', '33', 'Low', 'D', 3, None, None, None),\n",
       " (239, 'Female', 'Yes', 'No', '56', 'High', 'B', 3, 1, 3, 'Lawyer'),\n",
       " (240, 'Female', 'Yes', 'Yes', '53', 'Low', 'C', 1, 1, 5, 'Artist'),\n",
       " (241, 'Male', 'Yes', 'No', '57', 'High', 'C', 4, 1, 6, 'Executive'),\n",
       " (242, 'Female', 'Yes', 'Yes', '59', 'Average', 'C', 2, 0, 5, 'Artist'),\n",
       " (243, 'Female', 'Yes', 'Yes', '25', 'High', 'A', 3, 1, 1, 'Healthcare'),\n",
       " (244, 'Male', 'Yes', 'Yes', '59', 'Average', 'C', 5, 0, 5, 'Artist'),\n",
       " (245, 'Female', 'Yes', 'Yes', '36', 'Low', 'C', 3, 0, 5, 'Artist'),\n",
       " (246, 'Male', 'Yes', 'Yes', '37', 'Low', 'A', 1, 7, 4, 'Entertainment'),\n",
       " (247, 'Male', 'No', 'No', '22', 'Low', 'D', 2, 1, 7, 'Doctor'),\n",
       " (248, 'Male', 'Yes', 'Yes', '43', 'Low', 'B', 1, 1, 5, 'Artist'),\n",
       " (249, 'Male', 'Yes', 'Yes', '41', 'Low', 'A', 1, 1, 5, 'Artist'),\n",
       " (250, 'Female', 'No', 'No', '21', 'Low', 'B', 4, 0, 2, 'Engineer'),\n",
       " (251, 'Female', 'No', 'No', '49', 'Low', 'A', 0, 1, 2, 'Engineer'),\n",
       " (252, 'Male', 'No', 'Yes', '38', 'Low', 'B', 0, 8, 7, 'Doctor'),\n",
       " (253, 'Male', 'Yes', 'No', '47', 'Average', 'A', 3, None, 5, 'Artist'),\n",
       " (254, 'Male', 'Yes', 'Yes', '70', 'High', 'C', 2, 1, 3, 'Lawyer'),\n",
       " (255, 'Female', 'No', 'No', '31', 'Low', 'B', 3, 1, 2, 'Engineer'),\n",
       " (256, 'Female', 'Yes', 'No', '82', 'Average', 'A', 1, 0, 3, 'Lawyer'),\n",
       " (257, 'Female', 'Yes', 'No', '51', 'Low', 'A', 0, None, 6, 'Executive'),\n",
       " (258, 'Female', 'No', 'No', '42', 'Low', 'A', 0, 11, 8, 'Homemaker'),\n",
       " (259, 'Male', 'No', 'Yes', '38', 'Low', 'A', 2, 8, 5, 'Artist'),\n",
       " (260, 'Male', 'Yes', 'No', '18', 'High', 'A', 3, 0, 6, 'Executive'),\n",
       " (261, 'Male', 'Yes', 'Yes', '50', 'Average', 'C', 2, 6, 5, 'Artist'),\n",
       " (262, 'Female', 'No', 'Yes', '46', 'Low', 'A', 0, 1, 7, 'Doctor'),\n",
       " (263, 'Female', 'Yes', 'No', '72', 'High', 'D', 2, 1, 3, 'Lawyer'),\n",
       " (264, 'Female', 'No', 'No', '33', 'Low', 'C', 3, None, 2, 'Engineer'),\n",
       " (265, 'Female', 'No', 'No', '25', 'Low', 'B', 6, 1, 8, 'Homemaker'),\n",
       " (266, 'Female', 'Yes', 'No', '75', 'High', 'D', 1, 2, 4, 'Entertainment'),\n",
       " (267, 'Male', 'No', 'Yes', '72', 'Low', 'B', 0, 1, 5, 'Artist'),\n",
       " (268, 'Female', 'Yes', 'Yes', '72', 'Average', 'C', 2, 0, 5, 'Artist'),\n",
       " (269, 'Male', 'Yes', 'Yes', '36', 'Low', 'A', 5, 6, 4, 'Entertainment'),\n",
       " (270, 'Male', 'Yes', 'Yes', '40', 'Low', 'A', 1, 1, 5, 'Artist'),\n",
       " (271, 'Female', 'No', 'Yes', '28', 'Low', 'C', 3, 0, 4, 'Entertainment'),\n",
       " (272, 'Female', 'No', 'Yes', '28', 'Low', 'D', 2, 0, 7, 'Doctor'),\n",
       " (273, 'Male', 'nan', 'No', '19', 'High', 'D', 2, 0, 4, 'Entertainment'),\n",
       " (274, 'Male', 'Yes', 'Yes', '43', 'Low', 'B', 1, 0, 5, 'Artist'),\n",
       " (275, 'Female', 'Yes', 'Yes', '35', 'Average', 'B', 1, 1, 5, 'Artist'),\n",
       " (276, 'Male', 'Yes', 'Yes', '65', 'High', 'B', 1, 1, 3, 'Lawyer'),\n",
       " (277, 'Male', 'Yes', 'Yes', '52', 'High', 'C', 3, 7, 6, 'Executive'),\n",
       " (278, 'Female', 'No', 'Yes', '40', 'Low', 'B', 0, 1, 5, 'Artist'),\n",
       " (279, 'Female', 'Yes', 'No', '69', 'Low', 'A', 2, 9, 2, 'Engineer'),\n",
       " (280, 'Female', 'No', 'No', '22', 'Low', 'D', 2, 3, 1, 'Healthcare'),\n",
       " (281, 'Male', 'Yes', 'Yes', '47', 'Average', 'C', 3, 1, 6, 'Executive'),\n",
       " (282, 'Male', 'Yes', 'Yes', '29', 'High', 'A', 1, 1, 9, 'Marketing'),\n",
       " (283, 'Male', 'Yes', 'Yes', '46', 'Average', 'C', 2, 1, 5, 'Artist'),\n",
       " (284, 'Male', 'No', 'Yes', '32', 'Low', 'A', 1, 1, 5, 'Artist'),\n",
       " (285, 'Female', 'No', 'Yes', '38', 'Low', 'C', 0, 0, 1, 'Healthcare'),\n",
       " (286, 'Male', 'Yes', 'Yes', '59', 'Low', 'B', 0, 0, 5, 'Artist'),\n",
       " (287, 'Female', 'No', 'Yes', '26', 'Low', 'D', 0, 1, 4, 'Entertainment'),\n",
       " (288, 'Male', 'No', 'Yes', '26', 'Low', 'A', 1, 1, 1, 'Healthcare'),\n",
       " (289, 'Male', 'No', 'No', '28', 'Low', 'D', 0, 0, 9, 'Marketing'),\n",
       " (290, 'Female', 'Yes', 'Yes', '53', 'Average', 'C', 2, 1, 2, 'Engineer'),\n",
       " (291, 'Female', 'No', 'nan', '43', 'Low', 'B', 0, None, 4, 'Entertainment'),\n",
       " (292, 'Male', 'No', 'No', '27', 'Low', 'D', 2, 1, 7, 'Doctor'),\n",
       " (293, 'Female', 'No', 'No', '32', 'Low', 'C', 7, None, 5, 'Artist'),\n",
       " (294, 'Male', 'No', 'No', '26', 'Low', 'D', 3, 0, 2, 'Engineer'),\n",
       " (295, 'Female', 'No', 'No', '31', 'Low', 'D', 1, 0, 4, 'Entertainment'),\n",
       " (296, 'Male', 'Yes', 'Yes', '39', 'High', 'B', 2, 1, 6, 'Executive'),\n",
       " (297, 'Female', 'Yes', 'No', '43', 'Low', 'A', 2, 1, 2, 'Engineer'),\n",
       " (298, 'Male', 'Yes', 'No', '25', 'Low', 'A', 1, 1, 7, 'Doctor'),\n",
       " (299, 'Male', 'Yes', 'Yes', '40', 'High', 'A', 2, 3, 5, 'Artist'),\n",
       " (300, 'Female', 'Yes', 'Yes', '40', 'Average', 'B', 1, 7, 4, 'Entertainment'),\n",
       " (301,\n",
       "  'Male',\n",
       "  'Yes',\n",
       "  'Yes',\n",
       "  '63',\n",
       "  'Average',\n",
       "  'C',\n",
       "  2,\n",
       "  None,\n",
       "  4,\n",
       "  'Entertainment'),\n",
       " (302, 'Female', 'Yes', 'Yes', '27', 'Low', 'D', 1, None, 1, 'Healthcare'),\n",
       " (303, 'Male', 'No', 'Yes', '27', 'Low', 'D', 2, 1, 1, 'Healthcare'),\n",
       " (304, 'Female', 'No', 'No', '19', 'Low', 'D', 1, 1, 1, 'Healthcare'),\n",
       " (305, 'Female', 'Yes', 'Yes', '86', 'High', 'B', 1, 0, 3, 'Lawyer'),\n",
       " (306, 'Male', 'Yes', 'Yes', '41', 'High', 'B', 1, None, 9, 'Marketing'),\n",
       " (307, 'Female', 'Yes', 'Yes', '27', 'Average', 'C', 1, 4, 5, 'Artist'),\n",
       " (308, 'Female', 'Yes', 'No', '70', 'Average', 'B', 1, 0, 7, 'Doctor'),\n",
       " (309, 'Female', 'Yes', 'No', '53', 'Average', 'B', 3, 8, 2, 'Engineer'),\n",
       " (310, 'Female', 'Yes', 'No', '49', 'Average', 'B', 3, None, 2, 'Engineer'),\n",
       " (311, 'Male', 'Yes', 'No', '55', 'Low', 'D', 0, 3, 6, 'Executive'),\n",
       " (312, 'Female', 'nan', 'Yes', '57', 'Average', 'C', 3, 0, 2, 'Engineer'),\n",
       " (313, 'Male', 'Yes', 'No', '83', 'Low', 'B', 0, None, 3, 'Lawyer'),\n",
       " (314, 'Male', 'Yes', 'No', '43', 'High', 'A', 3, 0, 6, 'Executive'),\n",
       " (315, 'Male', 'Yes', 'No', '36', 'Low', 'A', 2, 6, 7, 'Doctor'),\n",
       " (316, 'Male', 'Yes', 'Yes', '74', 'Low', 'C', 1, 0, 3, 'Lawyer'),\n",
       " (317, 'Female', 'No', 'No', '30', 'Low', 'D', 3, 0, 8, 'Homemaker'),\n",
       " (318, 'Female', 'No', 'Yes', '37', 'Low', 'B', 1, 5, 5, 'Artist'),\n",
       " (319, 'Female', 'No', 'No', '22', 'Low', 'B', 0, 0, 9, 'Marketing'),\n",
       " (320, 'Male', 'No', 'No', '19', 'Low', 'D', 3, 0, 1, 'Healthcare'),\n",
       " (321, 'Male', 'Yes', 'Yes', '70', 'High', 'B', 1, 4, 2, 'Engineer'),\n",
       " (322, 'Male', 'Yes', 'Yes', '89', 'Low', 'A', 0, 13, 3, 'Lawyer'),\n",
       " (323, 'Male', 'No', 'No', '18', 'Low', 'D', 3, None, 1, 'Healthcare'),\n",
       " (324, 'Male', 'No', 'Yes', '25', 'Low', 'D', 0, 6, 7, 'Doctor'),\n",
       " (325, 'Female', 'No', 'Yes', '45', 'Low', 'A', 0, 4, 5, 'Artist'),\n",
       " (326, 'Female', 'No', 'Yes', '35', 'Low', 'A', 0, 3, 5, 'Artist'),\n",
       " (327, 'Female', 'Yes', 'No', '37', 'Low', 'D', 0, 7, 2, 'Engineer'),\n",
       " (328, 'Female', 'Yes', 'No', '39', 'Average', 'B', 1, 4, 2, 'Engineer'),\n",
       " (329, 'Female', 'No', 'Yes', '32', 'Low', 'D', 4, 1, 1, 'Healthcare'),\n",
       " (330, 'Female', 'Yes', 'Yes', '62', 'Average', 'C', 2, 2, 5, 'Artist'),\n",
       " (331, 'Female', 'Yes', 'Yes', '58', 'Average', 'B', 3, 0, 2, 'Engineer'),\n",
       " (332, 'Female', 'No', 'No', '32', 'Low', 'C', 3, None, 2, 'Engineer'),\n",
       " (333, 'Male', 'No', 'No', '25', 'Low', 'C', 4, 0, 1, 'Healthcare'),\n",
       " (334, 'Female', 'Yes', 'Yes', '56', 'Average', 'C', 3, 0, 5, 'Artist'),\n",
       " (335, 'Female', 'No', 'Yes', '36', 'Low', 'A', 1, 10, 4, 'Entertainment'),\n",
       " (336, 'Female', 'No', 'No', '30', 'Low', 'A', 2, 8, 1, 'Healthcare'),\n",
       " (337, 'Male', 'No', 'No', '19', 'Low', 'D', 4, 1, 1, 'Healthcare'),\n",
       " (338, 'Male', 'No', 'Yes', '27', 'Low', 'A', 1, 0, 1, 'Healthcare'),\n",
       " (339, 'Female', 'No', 'Yes', '38', 'Low', 'A', 0, 14, 7, 'Doctor'),\n",
       " (340, 'Male', 'Yes', 'Yes', '46', 'Average', 'C', 1, 8, 5, 'Artist'),\n",
       " (341, 'Male', 'No', 'Yes', '29', 'Low', 'B', 0, 3, 5, 'Artist'),\n",
       " (342, 'Male', 'Yes', 'No', '51', 'Average', 'B', 3, 1, 4, 'Entertainment'),\n",
       " (343, 'Male', 'Yes', 'No', '55', 'Low', 'A', 0, 0, 5, 'Artist'),\n",
       " (344, 'Female', 'Yes', 'Yes', '69', 'Low', 'A', 0, 1, 2, 'Engineer'),\n",
       " (345, 'Female', 'No', 'No', '26', 'Low', 'C', 7, 1, 1, 'Healthcare'),\n",
       " (346, 'Female', 'Yes', 'Yes', '83', 'Low', 'A', 2, 0, 3, 'Lawyer'),\n",
       " (347, 'Female', 'No', 'Yes', '39', 'Low', 'D', 0, 9, 1, 'Healthcare'),\n",
       " (348, 'Male', 'Yes', 'Yes', '35', 'Low', 'A', 0, 9, 5, 'Artist'),\n",
       " (349, 'Male', 'Yes', 'No', '19', 'High', 'C', 4, 2, 9, 'Marketing'),\n",
       " (350, 'Female', 'Yes', 'Yes', '60', 'High', 'C', 3, None, 5, 'Artist'),\n",
       " (351, 'Male', 'Yes', 'Yes', '35', 'Average', 'C', 3, None, 5, 'Artist'),\n",
       " (352, 'Female', 'No', 'Yes', '53', 'Low', 'B', 0, None, 2, 'Engineer'),\n",
       " (353, 'Female', 'Yes', 'No', '86', 'Low', 'B', 0, None, 3, 'Lawyer'),\n",
       " (354, 'Female', 'No', 'No', '29', 'Low', 'B', 2, 1, 1, 'Healthcare'),\n",
       " (355, 'Female', 'No', 'No', '26', 'Low', 'D', 0, 0, 7, 'Doctor'),\n",
       " (356, 'Male', 'No', 'Yes', '36', 'Low', 'A', 0, 8, 2, 'Engineer'),\n",
       " (357, 'Female', 'No', 'No', '22', 'Low', 'D', 3, 0, 8, 'Homemaker'),\n",
       " (358, 'Male', 'No', 'No', '19', 'Low', 'A', 4, 0, 9, 'Marketing'),\n",
       " (359, 'Female', 'Yes', 'Yes', '20', 'Average', 'A', 2, 1, 3, 'Lawyer'),\n",
       " (360, 'Male', 'No', 'Yes', '43', 'Low', 'D', 2, 3, 1, 'Healthcare'),\n",
       " (361, 'Female', 'No', 'Yes', '42', 'Low', 'A', 2, None, 5, 'Artist'),\n",
       " (362, 'Male', 'No', 'Yes', '43', 'Low', 'A', 1, 1, 4, 'Entertainment'),\n",
       " (363, 'Female', 'Yes', 'Yes', '50', 'High', 'B', 2, 4, 2, 'Engineer'),\n",
       " (364, 'Male', 'No', 'Yes', '25', 'Low', 'A', 1, 1, 4, 'Entertainment'),\n",
       " (365, 'Male', 'Yes', 'No', '61', 'High', 'B', 1, 1, 5, 'Artist'),\n",
       " (366, 'Female', 'Yes', 'Yes', '28', 'Average', 'A', 1, 0, 1, 'Healthcare'),\n",
       " (367, 'Male', 'No', 'Yes', '38', 'Low', 'D', 0, 1, 5, 'Artist'),\n",
       " (368, 'Male', 'No', 'No', '25', 'Low', 'A', 2, 12, 6, 'Executive'),\n",
       " (369, 'Female', 'No', 'No', '18', 'Low', 'D', 4, 9, 1, 'Healthcare'),\n",
       " (370, 'Male', 'Yes', 'Yes', '43', 'Average', 'C', 4, 1, 4, 'Entertainment'),\n",
       " (371, 'Female', 'No', 'Yes', '27', 'Low', 'B', 0, 8, 5, 'Artist'),\n",
       " (372, 'Female', 'No', 'Yes', '60', 'Low', 'D', 1, 1, 4, 'Entertainment'),\n",
       " (373, 'Male', 'Yes', 'Yes', '75', 'Low', 'D', 0, 2, 3, 'Lawyer'),\n",
       " (374, 'Female', 'No', 'No', '31', 'Low', 'D', 3, None, 7, 'Doctor'),\n",
       " (375, 'Male', 'No', 'No', '23', 'Low', 'D', 3, 6, 7, 'Doctor'),\n",
       " (376, 'Male', 'No', 'Yes', '36', 'Low', 'A', 0, 8, 5, 'Artist'),\n",
       " (377, 'Male', 'No', 'No', '30', 'Low', 'C', 0, 1, 7, 'Doctor'),\n",
       " (378, 'Male', 'Yes', 'No', '56', 'Average', 'C', 1, 1, 5, 'Artist'),\n",
       " (379, 'Female', 'Yes', 'Yes', '52', 'Low', 'C', 1, 2, 5, 'Artist'),\n",
       " (380, 'Male', 'Yes', 'Yes', '39', 'Low', 'D', 0, 0, 4, 'Entertainment'),\n",
       " (381, 'Female', 'No', 'No', '35', 'Low', 'A', 0, 5, 5, 'Artist'),\n",
       " (382, 'Male', 'Yes', 'No', '33', 'Average', 'B', 1, 0, 2, 'Engineer'),\n",
       " (383, 'Female', 'No', 'Yes', '25', 'Low', 'A', 5, 0, 5, 'Artist'),\n",
       " (384, 'Female', 'Yes', 'Yes', '27', 'Average', 'B', 1, 0, 5, 'Artist'),\n",
       " (385, 'Male', 'Yes', 'Yes', '35', 'High', 'A', 2, 1, 5, 'Artist'),\n",
       " (386, 'Female', 'Yes', 'Yes', '41', 'Average', 'C', 1, 1, 5, 'Artist'),\n",
       " (387, 'Female', 'Yes', 'Yes', '49', 'Average', 'C', 2, None, 5, 'Artist'),\n",
       " (388, 'Female', 'Yes', 'No', '46', 'Average', 'B', 1, 8, 5, 'Artist'),\n",
       " (389, 'Female', 'No', 'No', '31', 'Low', 'D', 1, None, 1, 'Healthcare'),\n",
       " (390, 'Male', 'No', 'Yes', '49', 'Low', 'C', 0, None, 7, 'Doctor'),\n",
       " (391, 'Female', 'No', 'Yes', '26', 'Low', 'A', 0, 9, 5, 'Artist'),\n",
       " (392, 'Male', 'Yes', 'Yes', '43', 'High', 'B', 1, 13, 7, 'Doctor'),\n",
       " (393, 'Female', 'Yes', 'Yes', '30', 'Low', 'A', 3, 8, 5, 'Artist'),\n",
       " (394, 'Female', 'Yes', 'Yes', '70', 'Average', 'C', 3, 1, 5, 'Artist'),\n",
       " (395, 'Female', 'No', 'Yes', '28', 'Low', 'D', 0, None, 5, 'Artist'),\n",
       " (396, 'Female', 'Yes', 'No', '89', 'High', 'D', 0, 3, 3, 'Lawyer'),\n",
       " (397, 'Female', 'Yes', 'No', '42', 'High', 'B', 3, 6, 8, 'Homemaker'),\n",
       " (398, 'Female', 'Yes', 'Yes', '37', 'Average', 'A', 2, 6, 4, 'Entertainment'),\n",
       " (399, 'Male', 'Yes', 'No', '29', 'Average', 'D', 2, 1, 6, 'Executive'),\n",
       " (400, 'Female', 'Yes', 'Yes', '68', 'High', 'C', 1, 1, 5, 'Artist'),\n",
       " (401, 'Female', 'No', 'No', '25', 'Low', 'D', 0, 1, 2, 'Engineer'),\n",
       " (402, 'Male', 'No', 'No', '29', 'Low', 'D', 0, 1, 1, 'Healthcare'),\n",
       " (403, 'Female', 'Yes', 'Yes', '48', 'Low', 'C', 1, 0, 7, 'Doctor'),\n",
       " (404, 'Female', 'Yes', 'Yes', '51', 'Average', 'C', 2, 1, 7, 'Doctor'),\n",
       " (405, 'Female', 'Yes', 'Yes', '40', 'High', 'B', 4, 1, 2, 'Engineer'),\n",
       " (406, 'Male', 'Yes', 'Yes', '47', 'Average', 'B', 5, 0, 5, 'Artist'),\n",
       " (407, 'Male', 'Yes', 'Yes', '39', 'High', 'B', 2, None, 6, 'Executive'),\n",
       " (408, 'Male', 'Yes', 'Yes', '35', 'Average', 'C', 3, 1, 6, 'Executive'),\n",
       " (409, 'Female', 'No', 'No', '19', 'Low', 'D', 2, 2, 1, 'Healthcare'),\n",
       " (410, 'Female', 'No', 'No', '21', 'Low', 'D', 0, 7, 1, 'Healthcare'),\n",
       " (411, 'Male', 'Yes', 'Yes', '46', 'Average', 'B', 2, 0, 4, 'Entertainment'),\n",
       " (412, 'Male', 'Yes', 'Yes', '86', 'Low', 'B', 0, 0, 3, 'Lawyer'),\n",
       " (413, 'Male', 'Yes', 'Yes', '66', 'High', 'B', 1, 0, 5, 'Artist'),\n",
       " (414, 'Male', 'No', 'No', '42', 'Low', 'D', 4, 1, 9, 'Marketing'),\n",
       " (415, 'Female', 'Yes', 'Yes', '73', 'High', 'B', 1, 1, 3, 'Lawyer'),\n",
       " (416, 'Male', 'Yes', 'No', '72', 'Low', 'A', 0, 1, 2, 'Engineer'),\n",
       " (417, 'Male', 'Yes', 'Yes', '53', 'Low', 'B', 2, 0, 5, 'Artist'),\n",
       " (418, 'Female', 'Yes', 'Yes', '39', 'Average', 'C', 1, 8, 5, 'Artist'),\n",
       " (419, 'Female', 'No', 'No', '27', 'Low', 'D', 0, 9, 8, 'Homemaker'),\n",
       " (420, 'Male', 'Yes', 'No', '63', 'Average', 'B', 0, 1, 4, 'Entertainment'),\n",
       " (421, 'Female', 'No', 'No', '23', 'Low', 'D', 2, 1, 1, 'Healthcare'),\n",
       " (422, 'Female', 'No', 'Yes', '30', 'Low', 'B', 3, 0, 4, 'Entertainment'),\n",
       " (423, 'Female', 'Yes', 'Yes', '39', 'Average', 'C', 1, 5, 5, 'Artist'),\n",
       " (424, 'Male', 'Yes', 'Yes', '26', 'Average', 'B', 2, 1, 5, 'Artist'),\n",
       " (425, 'Female', 'Yes', 'Yes', '50', 'Low', 'A', 2, 7, 4, 'Entertainment'),\n",
       " (426, 'Female', 'Yes', 'Yes', '45', 'Average', 'C', 1, 1, 5, 'Artist'),\n",
       " (427, 'Female', 'No', 'No', '62', 'Low', 'A', 0, 2, 4, 'Entertainment'),\n",
       " (428, 'Female', 'No', 'Yes', '27', 'Low', 'A', 2, 1, 7, 'Doctor'),\n",
       " (429, 'Male', 'Yes', 'Yes', '57', 'Low', 'A', 0, 1, 4, 'Entertainment'),\n",
       " (430, 'Female', 'Yes', 'No', '30', 'Average', 'A', 6, 1, 2, 'Engineer'),\n",
       " (431, 'Male', 'No', 'No', '32', 'Low', 'A', 3, 7, 1, 'Healthcare'),\n",
       " (432, 'Male', 'No', 'nan', '18', 'Low', 'A', 4, None, 6, 'Executive'),\n",
       " (433, 'Male', 'No', 'No', '47', 'Low', 'B', 2, 3, 5, 'Artist'),\n",
       " (434, 'Female', 'No', 'Yes', '32', 'Low', 'A', 3, 4, 5, 'Artist'),\n",
       " (435, 'Female', 'Yes', 'No', '32', 'Low', 'A', 2, 5, 2, 'Engineer'),\n",
       " (436, 'Male', 'Yes', 'Yes', '67', 'Average', 'B', 3, 1, 7, 'Doctor'),\n",
       " (437, 'Female', 'Yes', 'Yes', '77', 'High', 'C', 1, 0, 3, 'Lawyer'),\n",
       " (438, 'Male', 'Yes', 'No', '79', 'Average', 'C', 1, None, None, None),\n",
       " (439, 'Male', 'No', 'No', '31', 'Low', 'A', 0, 1, 4, 'Entertainment'),\n",
       " (440, 'Male', 'Yes', 'Yes', '42', 'Low', 'A', 2, 0, 5, 'Artist'),\n",
       " (441, 'Female', 'No', 'No', '18', 'Low', 'D', 5, None, None, None),\n",
       " (442, 'Male', 'Yes', 'Yes', '50', 'Average', 'C', 3, 1, 5, 'Artist'),\n",
       " (443, 'Male', 'Yes', 'Yes', '71', 'Average', 'C', 4, 0, 5, 'Artist'),\n",
       " (444, 'Female', 'Yes', 'No', '72', 'Low', 'A', 2, 1, 3, 'Lawyer'),\n",
       " (445, 'Male', 'Yes', 'Yes', '47', 'Low', 'A', 2, None, 5, 'Artist'),\n",
       " (446, 'Male', 'Yes', 'Yes', '45', 'Average', 'C', 1, 9, 5, 'Artist'),\n",
       " (447, 'Female', 'No', 'No', '40', 'Low', 'A', 4, 9, 2, 'Engineer'),\n",
       " (448, 'Female', 'No', 'Yes', '36', 'Low', 'A', 0, 4, 2, 'Engineer'),\n",
       " (449, 'Female', 'No', 'Yes', '42', 'Low', 'B', 0, None, 5, 'Artist'),\n",
       " (450, 'Male', 'No', 'No', '30', 'Low', 'D', 3, 4, 1, 'Healthcare'),\n",
       " (451, 'Female', 'No', 'Yes', '29', 'Low', 'B', 3, 2, 1, 'Healthcare'),\n",
       " (452, 'Male', 'No', 'Yes', '28', 'Low', 'D', 4, 0, 2, 'Engineer'),\n",
       " (453, 'Male', 'nan', 'No', '22', 'Low', 'D', 1, None, 1, 'Healthcare'),\n",
       " (454, 'Male', 'Yes', 'No', '85', 'Low', 'D', 0, None, 3, 'Lawyer'),\n",
       " (455, 'Female', 'Yes', 'Yes', '40', 'Average', 'C', 1, 1, 5, 'Artist'),\n",
       " (456, 'Female', 'Yes', 'Yes', '52', 'Average', 'C', 1, 14, 5, 'Artist'),\n",
       " (457, 'Male', 'Yes', 'Yes', '47', 'Low', 'C', 0, 0, 5, 'Artist'),\n",
       " (458, 'Male', 'No', 'No', '26', 'Low', 'D', 5, 6, 5, 'Artist'),\n",
       " (459, 'Female', 'No', 'Yes', '55', 'Low', 'B', 0, 3, 9, 'Marketing'),\n",
       " (460, 'Female', 'No', 'No', '20', 'Low', 'D', 3, 4, 7, 'Doctor'),\n",
       " (461, 'Female', 'Yes', 'Yes', '87', 'High', 'C', 1, 0, 3, 'Lawyer'),\n",
       " (462, 'Male', 'No', 'No', '28', 'Low', 'A', 1, 0, 1, 'Healthcare'),\n",
       " (463, 'Male', 'No', 'No', '38', 'Low', 'A', 1, 2, 5, 'Artist'),\n",
       " (464, 'Male', 'Yes', 'No', '42', 'Low', 'B', 1, 1, 4, 'Entertainment'),\n",
       " (465, 'Male', 'Yes', 'No', '42', 'High', 'A', 5, 0, 9, 'Marketing'),\n",
       " (466, 'Female', 'No', 'No', '29', 'Low', 'D', 3, 1, 2, 'Engineer'),\n",
       " (467, 'Male', 'No', 'Yes', '32', 'Low', 'A', 3, 0, 7, 'Doctor'),\n",
       " (468, 'Male', 'Yes', 'No', '38', 'High', 'D', 4, None, 6, 'Executive'),\n",
       " (469, 'Female', 'Yes', 'No', '59', 'High', 'C', 1, 1, 5, 'Artist'),\n",
       " (470, 'Male', 'No', 'No', '22', 'Low', 'D', 1, 0, 1, 'Healthcare'),\n",
       " (471, 'Female', 'No', 'No', '26', 'Low', 'D', 0, 9, 8, 'Homemaker'),\n",
       " (472, 'Female', 'Yes', 'Yes', '78', 'High', 'C', 1, 1, 5, 'Artist'),\n",
       " (473, 'Female', 'No', 'Yes', '32', 'Low', 'A', 2, 0, 1, 'Healthcare'),\n",
       " (474, 'Male', 'Yes', 'Yes', '37', 'Average', 'C', 3, 0, 5, 'Artist'),\n",
       " (475, 'Male', 'Yes', 'Yes', '37', 'High', 'B', 3, 1, 1, 'Healthcare'),\n",
       " (476, 'Male', 'No', 'No', '67', 'Low', 'D', 1, None, 3, 'Lawyer'),\n",
       " (477, 'Male', 'Yes', 'No', '47', 'High', 'B', 3, 0, 5, 'Artist'),\n",
       " (478, 'Female', 'Yes', 'Yes', '68', 'High', 'A', 1, 0, 3, 'Lawyer'),\n",
       " (479, 'Male', 'No', 'Yes', '30', 'Low', 'C', 4, 3, 1, 'Healthcare'),\n",
       " (480, 'Female', 'Yes', 'Yes', '48', 'Low', 'A', 0, 2, 4, 'Entertainment'),\n",
       " (481, 'Female', 'No', 'Yes', '43', 'Low', 'C', 0, 6, 5, 'Artist'),\n",
       " (482, 'Male', 'Yes', 'Yes', '33', 'Low', 'D', 1, 9, 1, 'Healthcare'),\n",
       " (483, 'Male', 'Yes', 'No', '31', 'Average', 'D', 4, 0, 1, 'Healthcare'),\n",
       " (484, 'Male', 'Yes', 'Yes', '32', 'Low', 'D', 1, 1, 1, 'Healthcare'),\n",
       " (485, 'Female', 'No', 'No', '21', 'Low', 'D', 3, 1, 1, 'Healthcare'),\n",
       " (486, 'Female', 'No', 'No', '29', 'Low', 'D', 3, 2, 8, 'Homemaker'),\n",
       " (487, 'Female', 'Yes', 'Yes', '35', 'Low', 'A', 1, 1, 5, 'Artist'),\n",
       " (488, 'Male', 'Yes', 'No', '46', 'Low', 'A', 2, 0, 5, 'Artist'),\n",
       " (489, 'Female', 'Yes', 'Yes', '38', 'High', 'B', 1, 9, 5, 'Artist'),\n",
       " (490, 'Female', 'No', 'Yes', '32', 'Low', 'C', 2, 1, 1, 'Healthcare'),\n",
       " (491, 'Female', 'No', 'Yes', '28', 'Low', 'A', 6, 3, 5, 'Artist'),\n",
       " (492, 'Female', 'Yes', 'Yes', '68', 'Low', 'A', 0, 3, 3, 'Lawyer'),\n",
       " (493, 'Female', 'Yes', 'Yes', '45', 'Low', 'C', 0, 4, 5, 'Artist'),\n",
       " (494, 'Male', 'Yes', 'Yes', '58', 'Average', 'C', 2, 0, 5, 'Artist'),\n",
       " (495, 'Male', 'No', 'No', '28', 'Low', 'A', 1, 1, 4, 'Entertainment'),\n",
       " (496, 'Female', 'No', 'No', '32', 'Low', 'A', 2, 12, 1, 'Healthcare'),\n",
       " (497, 'Male', 'No', 'Yes', '30', 'Low', 'B', 0, 1, 7, 'Doctor'),\n",
       " (498, 'Female', 'Yes', 'No', '42', 'Average', 'D', 3, 3, 8, 'Homemaker'),\n",
       " (499, 'Male', 'No', 'No', '22', 'Low', 'D', 5, None, None, None),\n",
       " (500, 'Male', 'No', 'Yes', '41', 'Low', 'C', 2, None, 5, 'Artist'),\n",
       " (501, 'Female', 'No', 'No', '18', 'Low', 'D', 3, 6, 1, 'Healthcare'),\n",
       " (502, 'Female', 'Yes', 'Yes', '29', 'Low', 'D', 2, 8, 1, 'Healthcare'),\n",
       " (503, 'Female', 'No', 'Yes', '33', 'Low', 'A', 2, 0, 1, 'Healthcare'),\n",
       " (504, 'Male', 'No', 'No', '47', 'Low', 'A', 0, 1, 5, 'Artist'),\n",
       " (505, 'Female', 'Yes', 'Yes', '57', 'Low', 'A', 1, 1, 7, 'Doctor'),\n",
       " (506, 'Male', 'Yes', 'Yes', '36', 'Low', 'D', 2, 1, 6, 'Executive'),\n",
       " (507, 'Male', 'Yes', 'Yes', '57', 'High', 'C', 2, 1, 6, 'Executive'),\n",
       " (508, 'Male', 'No', 'No', '18', 'Low', 'D', 1, 1, 1, 'Healthcare'),\n",
       " (509, 'Male', 'nan', 'Yes', '52', 'Average', 'C', 4, 1, 5, 'Artist'),\n",
       " (510, 'Male', 'Yes', 'Yes', '52', 'Average', 'C', 5, 1, 5, 'Artist'),\n",
       " (511, 'Male', 'No', 'nan', '51', 'Low', 'B', 3, 6, 5, 'Artist'),\n",
       " (512, 'Female', 'Yes', 'Yes', '37', 'Average', 'B', 1, 0, 4, 'Entertainment'),\n",
       " (513, 'Male', 'No', 'Yes', '36', 'Low', 'A', 0, 0, 9, 'Marketing'),\n",
       " (514, 'Female', 'No', 'Yes', '29', 'Low', 'A', 2, 9, 1, 'Healthcare'),\n",
       " (515, 'Male', 'Yes', 'Yes', '45', 'Average', 'C', 3, 1, 5, 'Artist'),\n",
       " (516, 'Male', 'No', 'Yes', '61', 'Low', 'B', 0, 0, 5, 'Artist'),\n",
       " (517, 'Male', 'Yes', 'Yes', '52', 'Average', 'A', 3, 1, 4, 'Entertainment'),\n",
       " (518, 'Female', 'Yes', 'Yes', '49', 'Low', 'A', 0, 14, 8, 'Homemaker'),\n",
       " (519,\n",
       "  'Male',\n",
       "  'Yes',\n",
       "  'Yes',\n",
       "  '40',\n",
       "  'Average',\n",
       "  'B',\n",
       "  1,\n",
       "  None,\n",
       "  4,\n",
       "  'Entertainment'),\n",
       " (520, 'Female', 'No', 'No', '31', 'Low', 'C', 4, 1, 1, 'Healthcare'),\n",
       " (521, 'Male', 'Yes', 'No', '42', 'Low', 'A', 2, 1, 4, 'Entertainment'),\n",
       " (522, 'Male', 'Yes', 'Yes', '51', 'Average', 'C', 4, 1, 2, 'Engineer'),\n",
       " (523, 'Female', 'No', 'Yes', '42', 'Low', 'D', 0, 8, 1, 'Healthcare'),\n",
       " (524, 'Male', 'No', 'Yes', '29', 'Low', 'C', 3, 1, 7, 'Doctor'),\n",
       " (525, 'Female', 'No', 'Yes', '33', 'Low', 'A', 0, 8, 1, 'Healthcare'),\n",
       " (526, 'Male', 'No', 'Yes', '27', 'Low', 'D', 2, None, 1, 'Healthcare'),\n",
       " (527, 'Female', 'No', 'No', '21', 'Low', 'D', 3, 0, 1, 'Healthcare'),\n",
       " (528, 'Male', 'Yes', 'No', '35', 'Average', 'B', 2, 9, 5, 'Artist'),\n",
       " (529, 'Female', 'No', 'Yes', '42', 'Low', 'A', 0, 0, 7, 'Doctor'),\n",
       " (530, 'Female', 'No', 'Yes', '41', 'Low', 'C', 0, 2, 5, 'Artist'),\n",
       " (531, 'Male', 'No', 'Yes', '39', 'Low', 'B', 2, 0, 5, 'Artist'),\n",
       " (532, 'Female', 'No', 'No', '28', 'Low', 'A', 0, 14, 7, 'Doctor'),\n",
       " (533, 'Female', 'Yes', 'Yes', '45', 'Average', 'B', 0, 3, 2, 'Engineer'),\n",
       " (534, 'Female', 'Yes', 'Yes', '61', 'Average', 'B', 1, 1, 7, 'Doctor'),\n",
       " (535, 'Male', 'Yes', 'Yes', '62', 'Average', 'C', 3, 0, 5, 'Artist'),\n",
       " (536, 'Male', 'Yes', 'Yes', '65', 'Average', 'C', 1, 1, 4, 'Entertainment'),\n",
       " (537, 'Male', 'Yes', 'Yes', '45', 'Average', 'A', 1, 1, 7, 'Doctor'),\n",
       " (538, 'Female', 'Yes', 'Yes', '26', 'Low', 'B', 1, 9, 2, 'Engineer'),\n",
       " (539, 'Female', 'No', 'Yes', '25', 'Low', 'C', 4, 4, 5, 'Artist'),\n",
       " (540, 'Female', 'Yes', 'Yes', '45', 'Average', 'C', 3, 1, 5, 'Artist'),\n",
       " (541, 'Male', 'Yes', 'No', '43', 'High', 'B', 3, 0, 6, 'Executive'),\n",
       " (542, 'Male', 'Yes', 'Yes', '49', 'High', 'C', 2, 1, 6, 'Executive'),\n",
       " (543, 'Male', 'Yes', 'Yes', '55', 'Average', 'C', 1, 1, 5, 'Artist'),\n",
       " (544, 'Female', 'No', 'Yes', '37', 'Low', 'B', 0, 3, 5, 'Artist'),\n",
       " (545, 'Male', 'Yes', 'Yes', '65', 'High', 'C', 1, 1, 4, 'Entertainment'),\n",
       " (546, 'Female', 'No', 'No', '32', 'Low', 'C', 4, None, None, None),\n",
       " (547, 'Female', 'No', 'No', '39', 'Low', 'A', 2, 0, 2, 'Engineer'),\n",
       " (548, 'Female', 'Yes', 'Yes', '40', 'Average', 'C', 1, 2, 5, 'Artist'),\n",
       " (549, 'Male', 'Yes', 'Yes', '72', 'Average', 'C', 2, 1, 4, 'Entertainment'),\n",
       " (550, 'Female', 'No', 'No', '38', 'Low', 'B', 0, 5, 8, 'Homemaker'),\n",
       " (551, 'Male', 'No', 'No', '26', 'Low', 'D', 4, 0, 9, 'Marketing'),\n",
       " (552, 'Male', 'No', 'Yes', '30', 'Low', 'D', 2, 1, 7, 'Doctor'),\n",
       " (553, 'Male', 'Yes', 'Yes', '51', 'Low', 'A', 0, 1, 8, 'Homemaker'),\n",
       " (554, 'Male', 'No', 'Yes', '57', 'Low', 'A', 3, 1, 9, 'Marketing'),\n",
       " (555, 'Female', 'No', 'Yes', '31', 'Low', 'D', 0, 1, 1, 'Healthcare'),\n",
       " (556, 'Male', 'No', 'Yes', '39', 'Low', 'A', 0, 0, 5, 'Artist'),\n",
       " (557, 'Female', 'No', 'No', '30', 'Low', 'A', 3, 0, 2, 'Engineer'),\n",
       " (558, 'Female', 'Yes', 'No', '43', 'Average', 'A', 2, 0, 5, 'Artist'),\n",
       " (559, 'Male', 'No', 'Yes', '27', 'Low', 'C', 0, 8, 1, 'Healthcare'),\n",
       " (560, 'Female', 'Yes', 'No', '46', 'Average', 'C', 3, 0, 5, 'Artist'),\n",
       " (561, 'Male', 'Yes', 'No', '43', 'Low', 'B', 1, 1, 5, 'Artist'),\n",
       " (562, 'Male', 'Yes', 'Yes', '69', 'Low', 'A', 0, None, 3, 'Lawyer'),\n",
       " (563, 'Male', 'Yes', 'No', '28', 'Average', 'D', 3, 8, 4, 'Entertainment'),\n",
       " (564, 'Male', 'No', 'Yes', '43', 'Low', 'D', 0, 9, 4, 'Entertainment'),\n",
       " (565, 'Female', 'No', 'No', '27', 'Low', 'D', 4, None, 1, 'Healthcare'),\n",
       " (566, 'Female', 'No', 'Yes', '28', 'Low', 'D', 2, 1, 1, 'Healthcare'),\n",
       " (567, 'Male', 'No', 'No', '33', 'Low', 'D', 3, None, 5, 'Artist'),\n",
       " (568, 'Female', 'No', 'No', '30', 'Low', 'B', 0, 0, 2, 'Engineer'),\n",
       " (569, 'Male', 'No', 'No', '58', 'Low', 'D', 1, 4, 1, 'Healthcare'),\n",
       " (570, 'Female', 'No', 'Yes', '38', 'Low', 'A', 3, 8, 2, 'Engineer'),\n",
       " (571, 'Female', 'No', 'Yes', '31', 'Low', 'D', 3, 1, 5, 'Artist'),\n",
       " (572, 'Male', 'Yes', 'No', '32', 'Average', 'D', 4, 4, 6, 'Executive'),\n",
       " (573, 'Male', 'Yes', 'Yes', '45', 'Average', 'C', 3, 4, 5, 'Artist'),\n",
       " (574, 'Male', 'Yes', 'Yes', '66', 'Low', 'A', 2, 1, 5, 'Artist'),\n",
       " (575, 'Female', 'Yes', 'Yes', '51', 'Average', 'C', 2, 1, 5, 'Artist'),\n",
       " (576, 'Female', 'Yes', 'Yes', '59', 'Average', 'C', 1, None, 5, 'Artist'),\n",
       " (577, 'Female', 'No', 'Yes', '40', 'Low', 'B', 0, None, 2, 'Engineer'),\n",
       " (578, 'Male', 'Yes', 'Yes', '46', 'Average', 'C', 4, 11, 5, 'Artist'),\n",
       " (579, 'Male', 'No', 'No', '20', 'Low', 'D', 5, 1, 1, 'Healthcare'),\n",
       " (580, 'Female', 'Yes', 'No', '84', 'High', 'C', 1, 1, 3, 'Lawyer'),\n",
       " (581, 'Female', 'No', 'Yes', '41', 'Low', 'D', 0, None, 9, 'Marketing'),\n",
       " (582, 'Male', 'Yes', 'No', '51', 'Average', 'C', 2, None, 5, 'Artist'),\n",
       " (583, 'Male', 'Yes', 'Yes', '57', 'Average', 'A', 4, 8, 4, 'Entertainment'),\n",
       " (584, 'Female', 'No', 'No', '33', 'Low', 'A', 0, 0, 7, 'Doctor'),\n",
       " (585, 'Male', 'No', 'No', '25', 'Low', 'D', 2, 3, 9, 'Marketing'),\n",
       " (586, 'Male', 'Yes', 'Yes', '55', 'Average', 'A', 2, None, 5, 'Artist'),\n",
       " (587, 'Female', 'Yes', 'Yes', '56', 'High', 'A', 3, None, 6, 'Executive'),\n",
       " (588, 'Male', 'Yes', 'Yes', '77', 'Low', 'C', 0, 1, 3, 'Lawyer'),\n",
       " (589, 'Male', 'Yes', 'Yes', '30', 'Low', 'A', 1, 1, 1, 'Healthcare'),\n",
       " (590, 'Male', 'No', 'No', '23', 'Low', 'D', 4, 6, 1, 'Healthcare'),\n",
       " (591, 'Female', 'No', 'Yes', '43', 'Low', 'B', 3, 2, 5, 'Artist'),\n",
       " (592, 'Male', 'No', 'Yes', '39', 'Low', 'A', 0, 5, 4, 'Entertainment'),\n",
       " (593, 'Male', 'Yes', 'No', '29', 'High', 'D', 1, 1, 6, 'Executive'),\n",
       " (594, 'Male', 'Yes', 'Yes', '37', 'Low', 'D', 1, None, 7, 'Doctor'),\n",
       " (595, 'Female', 'Yes', 'No', '45', 'Low', 'D', 1, 2, 2, 'Engineer'),\n",
       " (596, 'Male', 'Yes', 'No', '48', 'High', 'D', 1, 2, 6, 'Executive'),\n",
       " (597, 'Male', 'Yes', 'No', '27', 'Average', 'A', 3, 0, 4, 'Entertainment'),\n",
       " (598, 'Female', 'Yes', 'No', '60', 'Low', 'B', 3, 9, 4, 'Entertainment'),\n",
       " (599, 'Male', 'Yes', 'Yes', '45', 'Average', 'B', 2, 4, 4, 'Entertainment'),\n",
       " (600, 'Male', 'No', 'Yes', '31', 'Low', 'D', 0, None, 1, 'Healthcare'),\n",
       " (601, 'Male', 'No', 'No', '33', 'Low', 'C', 3, 1, 7, 'Doctor'),\n",
       " (602, 'Male', 'nan', 'No', '18', 'High', 'D', 3, None, None, None),\n",
       " (603, 'Female', 'Yes', 'Yes', '48', 'Average', 'B', 2, None, 5, 'Artist'),\n",
       " (604, 'Female', 'Yes', 'No', '83', 'Low', 'A', 1, None, 3, 'Lawyer'),\n",
       " (605, 'Male', 'Yes', 'Yes', '57', 'Low', 'A', 3, None, 6, 'Executive'),\n",
       " (606, 'Male', 'No', 'Yes', '26', 'Low', 'D', 2, None, 1, 'Healthcare'),\n",
       " (607, 'Male', 'Yes', 'Yes', '51', 'Low', 'A', 4, 8, 5, 'Artist'),\n",
       " (608, 'Male', 'Yes', 'No', '67', 'High', 'C', 0, 2, 6, 'Executive'),\n",
       " (609, 'Male', 'Yes', 'Yes', '38', 'Average', 'C', 1, 9, 5, 'Artist'),\n",
       " (610, 'Female', 'No', 'Yes', '40', 'Low', 'C', 0, 0, 7, 'Doctor'),\n",
       " (611, 'Female', 'Yes', 'Yes', '45', 'Average', 'B', 1, 5, 5, 'Artist'),\n",
       " (612, 'Male', 'Yes', 'Yes', '48', 'Average', 'C', 3, 0, 5, 'Artist'),\n",
       " (613, 'Female', 'Yes', 'No', '69', 'Average', 'C', 1, 0, 3, 'Lawyer'),\n",
       " (614, 'Male', 'No', 'No', '21', 'Low', 'D', 4, 9, 1, 'Healthcare'),\n",
       " (615, 'Female', 'Yes', 'No', '48', 'High', 'B', 0, 1, 2, 'Engineer'),\n",
       " (616, 'Female', 'No', 'No', '18', 'Low', 'D', 2, None, 1, 'Healthcare'),\n",
       " (617, 'Male', 'Yes', 'Yes', '72', 'Low', 'C', 2, 0, 5, 'Artist'),\n",
       " (618, 'Male', 'Yes', 'No', '85', 'Low', 'D', 0, None, 3, 'Lawyer'),\n",
       " (619, 'Female', 'No', 'No', '21', 'Low', 'D', 4, 1, 9, 'Marketing'),\n",
       " (620, 'Female', 'Yes', 'Yes', '48', 'Low', 'A', 0, 1, 5, 'Artist'),\n",
       " (621, 'Female', 'No', 'Yes', '37', 'Low', 'A', 0, 6, 4, 'Entertainment'),\n",
       " (622, 'Male', 'No', 'No', '28', 'Low', 'D', 4, 1, 1, 'Healthcare'),\n",
       " (623, 'Male', 'Yes', 'Yes', '55', 'Low', 'A', 1, 1, 4, 'Entertainment'),\n",
       " (624, 'Female', 'No', 'Yes', '56', 'Low', 'C', 1, 0, 5, 'Artist'),\n",
       " (625, 'Male', 'Yes', 'Yes', '50', 'Low', 'C', 1, 1, 7, 'Doctor'),\n",
       " (626, 'Male', 'No', 'No', '21', 'Low', 'D', 3, 1, 1, 'Healthcare'),\n",
       " (627, 'Male', 'No', 'No', '18', 'Low', 'D', 5, 0, 1, 'Healthcare'),\n",
       " (628, 'Male', 'Yes', 'Yes', '68', 'High', 'B', 1, 0, 3, 'Lawyer'),\n",
       " (629, 'Male', 'Yes', 'Yes', '47', 'Low', 'C', 0, 13, 5, 'Artist'),\n",
       " (630, 'Male', 'Yes', 'No', '75', 'High', 'B', 1, 1, 3, 'Lawyer'),\n",
       " (631, 'Male', 'Yes', 'Yes', '50', 'Average', 'C', 3, 3, 5, 'Artist'),\n",
       " (632, 'Male', 'No', 'Yes', '31', 'Low', 'D', 3, 0, 1, 'Healthcare'),\n",
       " (633, 'Female', 'No', 'Yes', '30', 'Low', 'A', 2, 0, 5, 'Artist'),\n",
       " (634, 'Female', 'Yes', 'Yes', '41', 'Low', 'A', 3, 0, 5, 'Artist'),\n",
       " (635, 'Male', 'Yes', 'nan', '41', 'High', 'A', 1, 6, 6, 'Executive'),\n",
       " (636, 'Female', 'Yes', 'No', '35', 'Low', 'A', 0, 2, 1, 'Healthcare'),\n",
       " (637, 'Male', 'Yes', 'Yes', '37', 'Low', 'D', 0, 0, 1, 'Healthcare'),\n",
       " (638, 'Male', 'Yes', 'Yes', '60', 'Low', 'D', 0, 0, 4, 'Entertainment'),\n",
       " (639, 'Male', 'Yes', 'Yes', '50', 'Average', 'C', 2, 0, 7, 'Doctor'),\n",
       " (640, 'Male', 'Yes', 'Yes', '36', 'Average', 'C', 1, 0, 5, 'Artist'),\n",
       " (641, 'Female', 'No', 'No', '26', 'Low', 'A', 2, 3, 9, 'Marketing'),\n",
       " (642, 'Male', 'Yes', 'No', '62', 'High', 'D', 1, None, None, None),\n",
       " (643, 'Male', 'No', 'No', '22', 'Low', 'D', 3, 0, 1, 'Healthcare'),\n",
       " (644, 'Female', 'No', 'No', '19', 'Low', 'D', 2, 0, 1, 'Healthcare'),\n",
       " (645, 'Female', 'Yes', 'Yes', '45', 'Average', 'C', 4, 0, 5, 'Artist'),\n",
       " (646, 'Female', 'No', 'No', '31', 'Low', 'D', 3, 0, 7, 'Doctor'),\n",
       " (647, 'Male', 'Yes', 'Yes', '56', 'Average', 'C', 2, 0, 5, 'Artist'),\n",
       " (648, 'Female', 'Yes', 'nan', '62', 'Low', 'A', 4, 8, 3, 'Lawyer'),\n",
       " (649, 'Female', 'No', 'Yes', '25', 'Low', 'B', 2, 1, 1, 'Healthcare'),\n",
       " (650, 'Female', 'Yes', 'Yes', '73', 'Low', 'B', 0, 1, 3, 'Lawyer'),\n",
       " (651, 'Male', 'Yes', 'Yes', '62', 'Average', 'C', 3, 1, 7, 'Doctor'),\n",
       " (652, 'Male', 'Yes', 'No', '46', 'Average', 'A', 2, 0, 4, 'Entertainment'),\n",
       " (653, 'Female', 'Yes', 'Yes', '51', 'Low', 'C', 0, None, 5, 'Artist'),\n",
       " (654, 'Male', 'Yes', 'Yes', '25', 'High', 'A', 1, 1, 6, 'Executive'),\n",
       " (655, 'Male', 'Yes', 'nan', '66', 'High', 'B', 1, 0, 6, 'Executive'),\n",
       " (656, 'Male', 'No', 'Yes', '27', 'Low', 'A', 1, 1, 9, 'Marketing'),\n",
       " (657, 'Male', 'Yes', 'No', '87', 'Low', 'A', 1, 1, 6, 'Executive'),\n",
       " (658, 'Female', 'Yes', 'Yes', '47', 'Low', 'A', 0, 0, 5, 'Artist'),\n",
       " (659, 'Male', 'Yes', 'Yes', '57', 'Average', 'C', 3, 1, 5, 'Artist'),\n",
       " (660, 'Male', 'Yes', 'Yes', '60', 'Average', 'A', 3, 0, 5, 'Artist'),\n",
       " (661, 'Male', 'Yes', 'Yes', '40', 'High', 'B', 4, None, 6, 'Executive'),\n",
       " (662, 'Female', 'No', 'Yes', '32', 'Low', 'A', 0, 7, 7, 'Doctor'),\n",
       " (663, 'Male', 'No', 'Yes', '28', 'Low', 'D', 2, 2, 1, 'Healthcare'),\n",
       " (664, 'Male', 'No', 'Yes', '39', 'Low', 'C', 2, 4, 7, 'Doctor'),\n",
       " (665, 'Female', 'No', 'Yes', '47', 'Low', 'D', 0, 9, 9, 'Marketing'),\n",
       " (666, 'Female', 'No', 'Yes', '39', 'Low', 'C', 0, None, None, None),\n",
       " (667, 'Male', 'No', 'No', '28', 'Low', 'A', 0, 1, 4, 'Entertainment'),\n",
       " (668, 'Male', 'Yes', 'Yes', '69', 'Average', 'A', 2, 0, 5, 'Artist'),\n",
       " (669, 'Female', 'No', 'Yes', '42', 'Low', 'D', 0, 0, 5, 'Artist'),\n",
       " (670, 'Female', 'Yes', 'Yes', '46', 'Low', 'D', 0, 1, 2, 'Engineer'),\n",
       " (671, 'Female', 'No', 'No', '23', 'Low', 'C', 2, 3, 9, 'Marketing'),\n",
       " (672, 'Male', 'No', 'Yes', '45', 'Low', 'C', 4, 1, 5, 'Artist'),\n",
       " (673, 'Female', 'Yes', 'Yes', '38', 'Average', 'B', 3, 1, 7, 'Doctor'),\n",
       " (674, 'Female', 'Yes', 'No', '71', 'High', 'D', 2, 1, 3, 'Lawyer'),\n",
       " (675, 'Female', 'No', 'No', '26', 'Low', 'D', 1, 0, 7, 'Doctor'),\n",
       " (676, 'Female', 'Yes', 'Yes', '60', 'High', 'C', 1, 8, 5, 'Artist'),\n",
       " (677, 'Female', 'Yes', 'Yes', '46', 'Average', 'C', 1, 1, 5, 'Artist'),\n",
       " (678, 'Male', 'Yes', 'Yes', '39', 'Average', 'C', 3, 1, 4, 'Entertainment'),\n",
       " (679, 'Female', 'No', 'No', '18', 'Low', 'D', 2, 1, 1, 'Healthcare'),\n",
       " (680, 'Male', 'Yes', 'Yes', '26', 'Average', 'A', 1, 1, 7, 'Doctor'),\n",
       " (681, 'Male', 'Yes', 'Yes', '53', 'High', 'D', 1, 1, 5, 'Artist'),\n",
       " (682, 'Male', 'Yes', 'Yes', '40', 'Average', 'C', 1, 1, 4, 'Entertainment'),\n",
       " (683, 'Male', 'Yes', 'No', '76', 'Low', 'D', 6, None, 6, 'Executive'),\n",
       " (684, 'Male', 'Yes', 'Yes', '26', 'Average', 'A', 2, 0, 4, 'Entertainment'),\n",
       " (685, 'Female', 'Yes', 'Yes', '65', 'Average', 'C', 1, 0, 5, 'Artist'),\n",
       " (686, 'Female', 'No', 'Yes', '37', 'Low', 'A', 1, 12, 5, 'Artist'),\n",
       " (687, 'Male', 'No', 'No', '25', 'Low', 'C', 3, 0, 1, 'Healthcare'),\n",
       " (688, 'Female', 'No', 'No', '21', 'Low', 'D', 4, 0, 2, 'Engineer'),\n",
       " (689, 'Female', 'No', 'No', '25', 'Low', 'D', 3, 0, 1, 'Healthcare'),\n",
       " (690, 'Male', 'No', 'No', '23', 'Low', 'D', 4, 4, 1, 'Healthcare'),\n",
       " (691, 'Female', 'No', 'Yes', '30', 'Low', 'D', 5, 1, 1, 'Healthcare'),\n",
       " (692, 'Female', 'No', 'No', '30', 'Low', 'D', 3, 0, 7, 'Doctor'),\n",
       " (693, 'Male', 'Yes', 'No', '42', 'Average', 'A', 3, 0, 4, 'Entertainment'),\n",
       " (694, 'Female', 'Yes', 'No', '81', 'High', 'D', 1, None, 3, 'Lawyer'),\n",
       " (695, 'Male', 'Yes', 'Yes', '49', 'Average', 'C', 4, 1, 4, 'Entertainment'),\n",
       " (696, 'Male', 'No', 'No', '32', 'Low', 'A', 2, 0, 1, 'Healthcare'),\n",
       " (697, 'Female', 'Yes', 'Yes', '43', 'Average', 'B', 3, None, 5, 'Artist'),\n",
       " (698, 'Male', 'Yes', 'No', '26', 'High', 'D', 3, 9, 6, 'Executive'),\n",
       " (699, 'Female', 'No', 'No', '67', 'Low', 'B', 1, 1, 5, 'Artist'),\n",
       " (700, 'Male', 'Yes', 'No', '88', 'Low', 'A', 0, 0, 6, 'Executive'),\n",
       " (701, 'Female', 'No', 'Yes', '40', 'Low', 'D', 3, 8, 1, 'Healthcare'),\n",
       " (702, 'Female', 'nan', 'Yes', '48', 'Low', 'C', 3, 0, 5, 'Artist'),\n",
       " (703, 'Male', 'No', 'No', '18', 'Low', 'D', 2, 7, 1, 'Healthcare'),\n",
       " (704, 'Male', 'Yes', 'Yes', '39', 'Average', 'A', 2, None, None, None),\n",
       " (705, 'Male', 'Yes', 'Yes', '61', 'High', 'B', 4, 7, 4, 'Entertainment'),\n",
       " (706, 'Female', 'Yes', 'Yes', '51', 'High', 'C', 3, None, 5, 'Artist'),\n",
       " (707, 'Female', 'Yes', 'No', '25', 'Average', 'A', 1, 0, 2, 'Engineer'),\n",
       " (708, 'Male', 'No', 'Yes', '35', 'Low', 'B', 2, 6, 5, 'Artist'),\n",
       " (709, 'Male', 'Yes', 'No', '46', 'High', 'C', 1, 0, 6, 'Executive'),\n",
       " (710, 'Female', 'Yes', 'No', '53', 'High', 'B', 2, 2, 8, 'Homemaker'),\n",
       " (711, 'Male', 'Yes', 'Yes', '48', 'Low', 'D', 0, 9, 4, 'Entertainment'),\n",
       " (712, 'Male', 'Yes', 'Yes', '75', 'Low', 'D', 1, 1, 3, 'Lawyer'),\n",
       " (713, 'Male', 'No', 'No', '23', 'Low', 'D', 2, 1, 1, 'Healthcare'),\n",
       " (714, 'Male', 'No', 'No', '29', 'Low', 'D', 1, 1, 7, 'Doctor'),\n",
       " (715, 'Male', 'Yes', 'No', '46', 'Low', 'B', 1, 0, 5, 'Artist'),\n",
       " (716, 'Female', 'No', 'Yes', '61', 'Low', 'D', 0, 1, 9, 'Marketing'),\n",
       " (717, 'Female', 'No', 'No', '37', 'Low', 'B', 0, 1, 5, 'Artist'),\n",
       " (718, 'Female', 'No', 'No', '23', 'Low', 'D', 4, 6, 1, 'Healthcare'),\n",
       " (719, 'Male', 'No', 'No', '21', 'Low', 'D', 7, None, 1, 'Healthcare'),\n",
       " (720, 'Female', 'No', 'No', '33', 'Low', 'D', 3, 7, 1, 'Healthcare'),\n",
       " (721, 'Male', 'Yes', 'No', '74', 'Low', 'D', 0, 0, 6, 'Executive'),\n",
       " (722, 'Male', 'No', 'No', '41', 'Low', 'D', 1, 0, 4, 'Entertainment'),\n",
       " (723, 'Female', 'Yes', 'Yes', '58', 'High', 'B', 3, None, 2, 'Engineer'),\n",
       " (724, 'Male', 'Yes', 'Yes', '25', 'Average', 'A', 1, 8, 4, 'Entertainment'),\n",
       " (725, 'Male', 'No', 'No', '33', 'Low', 'D', 2, 2, 9, 'Marketing'),\n",
       " (726, 'Male', 'Yes', 'No', '43', 'Low', 'A', 1, 0, 7, 'Doctor'),\n",
       " (727, 'Male', 'Yes', 'No', '25', 'Low', 'D', 1, 1, 6, 'Executive'),\n",
       " (728, 'Female', 'No', 'No', '26', 'Low', 'A', 0, 0, 2, 'Engineer'),\n",
       " (729, 'Male', 'No', 'No', '22', 'Low', 'D', 4, 1, 1, 'Healthcare'),\n",
       " (730, 'Male', 'Yes', 'No', '28', 'Average', 'D', 1, 0, 5, 'Artist'),\n",
       " (731, 'Female', 'No', 'Yes', '36', 'Low', 'A', 0, 7, 4, 'Entertainment'),\n",
       " (732, 'Female', 'No', 'No', '28', 'Low', 'C', 2, 1, 1, 'Healthcare'),\n",
       " (733, 'Male', 'Yes', 'Yes', '85', 'High', 'A', 3, 1, 5, 'Artist'),\n",
       " (734, 'Male', 'No', 'Yes', '30', 'Low', 'D', 0, 0, 4, 'Entertainment'),\n",
       " (735, 'Male', 'Yes', 'Yes', '43', 'High', 'A', 1, 7, 1, 'Healthcare'),\n",
       " (736, 'Male', 'Yes', 'No', '82', 'High', 'B', 1, 1, 6, 'Executive'),\n",
       " (737, 'Male', 'nan', 'Yes', '48', 'High', 'B', 4, None, 6, 'Executive'),\n",
       " (738, 'Female', 'No', 'No', '18', 'Low', 'D', 2, 3, 1, 'Healthcare'),\n",
       " (739, 'Male', 'Yes', 'Yes', '53', 'Low', 'A', 1, 1, 2, 'Engineer'),\n",
       " (740, 'Male', 'Yes', 'Yes', '50', 'Average', 'B', 3, 0, 5, 'Artist'),\n",
       " (741, 'Female', 'Yes', 'No', '39', 'Average', 'D', 5, 9, 2, 'Engineer'),\n",
       " (742, 'Female', 'Yes', 'No', '35', 'Average', 'B', 5, 2, 2, 'Engineer'),\n",
       " (743, 'Male', 'No', 'Yes', '28', 'Low', 'D', 2, None, 4, 'Entertainment'),\n",
       " (744, 'Female', 'No', 'Yes', '33', 'Low', 'A', 2, 1, 2, 'Engineer'),\n",
       " (745, 'Female', 'Yes', 'Yes', '35', 'Low', 'C', 2, 1, 1, 'Healthcare'),\n",
       " (746, 'Male', 'Yes', 'Yes', '48', 'Average', 'B', 3, 0, 4, 'Entertainment'),\n",
       " (747, 'Female', 'Yes', 'Yes', '50', 'High', 'C', 2, 1, 5, 'Artist'),\n",
       " (748, 'Male', 'Yes', 'No', '47', 'Average', 'C', 3, 0, 4, 'Entertainment'),\n",
       " (749, 'Female', 'No', 'Yes', '50', 'Low', 'C', 0, 4, 5, 'Artist'),\n",
       " (750, 'Male', 'Yes', 'Yes', '56', 'Low', 'A', 3, None, 5, 'Artist'),\n",
       " (751, 'Female', 'No', 'No', '26', 'Low', 'D', 0, 10, 1, 'Healthcare'),\n",
       " (752, 'Male', 'No', 'No', '21', 'Low', 'D', 3, 0, 1, 'Healthcare'),\n",
       " (753, 'Male', 'Yes', 'Yes', '61', 'Average', 'C', 3, 1, 4, 'Entertainment'),\n",
       " (754, 'Female', 'Yes', 'No', '88', 'High', 'B', 1, 0, 3, 'Lawyer'),\n",
       " (755, 'Male', 'No', 'No', '72', 'Low', 'D', 1, 1, 9, 'Marketing'),\n",
       " (756, 'Male', 'Yes', 'Yes', '61', 'Low', 'B', 1, 1, 5, 'Artist'),\n",
       " (757, 'Female', 'Yes', 'No', '45', 'Low', 'A', 0, 8, 2, 'Engineer'),\n",
       " (758, 'Female', 'Yes', 'No', '51', 'Average', 'B', 4, 1, 2, 'Engineer'),\n",
       " (759, 'Male', 'No', 'Yes', '42', 'Low', 'B', 1, 6, 5, 'Artist'),\n",
       " (760, 'Male', 'Yes', 'No', '59', 'Average', 'C', 2, 8, 4, 'Entertainment'),\n",
       " (761, 'Female', 'No', 'Yes', '45', 'Low', 'A', 0, 4, 1, 'Healthcare'),\n",
       " (762, 'Female', 'Yes', 'Yes', '68', 'Average', 'C', 2, None, 5, 'Artist'),\n",
       " (763, 'Female', 'Yes', 'Yes', '85', 'High', 'A', 1, 0, 3, 'Lawyer'),\n",
       " (764, 'Male', 'Yes', 'Yes', '46', 'Average', 'B', 3, 1, 7, 'Doctor'),\n",
       " (765, 'Female', 'Yes', 'Yes', '32', 'Average', 'B', 1, 0, 5, 'Artist'),\n",
       " (766, 'Female', 'Yes', 'Yes', '70', 'Low', 'C', 0, 0, 2, 'Engineer'),\n",
       " (767, 'Male', 'Yes', 'Yes', '37', 'Low', 'D', 0, None, 4, 'Entertainment'),\n",
       " (768, 'Female', 'No', 'No', '30', 'Low', 'B', 3, 1, 9, 'Marketing'),\n",
       " (769, 'Female', 'No', 'Yes', '33', 'Low', 'A', 1, 1, 2, 'Engineer'),\n",
       " (770, 'Male', 'Yes', 'No', '61', 'Low', 'A', 2, None, 1, 'Healthcare'),\n",
       " (771, 'Female', 'No', 'Yes', '37', 'Low', 'D', 0, 0, 2, 'Engineer'),\n",
       " (772, 'Male', 'Yes', 'Yes', '32', 'Low', 'B', 1, 6, 4, 'Entertainment'),\n",
       " (773, 'Male', 'Yes', 'Yes', '52', 'High', 'B', 1, 0, 5, 'Artist'),\n",
       " (774, 'Female', 'Yes', 'No', '42', 'Average', 'B', 2, 0, 4, 'Entertainment'),\n",
       " (775, 'Male', 'Yes', 'Yes', '47', 'Average', 'B', 1, 3, 5, 'Artist'),\n",
       " (776, 'Female', 'Yes', 'Yes', '52', 'Low', 'C', 1, 9, 5, 'Artist'),\n",
       " (777, 'Male', 'Yes', 'Yes', '66', 'Average', 'C', 2, 0, 4, 'Entertainment'),\n",
       " (778, 'Female', 'No', 'No', '28', 'Low', 'C', 5, None, 2, 'Engineer'),\n",
       " (779, 'Female', 'Yes', 'Yes', '47', 'Low', 'D', 0, 1, 9, 'Marketing'),\n",
       " (780, 'Male', 'Yes', 'Yes', '52', 'Average', 'B', 2, 1, 4, 'Entertainment'),\n",
       " (781, 'Male', 'No', 'No', '27', 'Low', 'D', 3, 2, 1, 'Healthcare'),\n",
       " (782, 'Female', 'Yes', 'Yes', '56', 'Average', 'B', 4, 0, 5, 'Artist'),\n",
       " (783, 'Female', 'Yes', 'No', '53', 'Average', 'A', 5, 7, 2, 'Engineer'),\n",
       " (784, 'Female', 'Yes', 'Yes', '45', 'Average', 'B', 3, 1, 5, 'Artist'),\n",
       " (785, 'Female', 'No', 'No', '37', 'Low', 'D', 0, 1, 8, 'Homemaker'),\n",
       " (786, 'Female', 'Yes', 'No', '36', 'Average', 'C', 3, 2, 5, 'Artist'),\n",
       " (787, 'Male', 'No', 'Yes', '25', 'Low', 'D', 2, 2, 4, 'Entertainment'),\n",
       " (788, 'Female', 'Yes', 'Yes', '45', 'Average', 'B', 1, 1, 5, 'Artist'),\n",
       " (789, 'Male', 'Yes', 'Yes', '72', 'Low', 'A', 0, 9, 8, 'Homemaker'),\n",
       " (790, 'Male', 'No', 'Yes', '35', 'Low', 'A', 2, 1, 4, 'Entertainment'),\n",
       " (791, 'Female', 'Yes', 'Yes', '72', 'High', 'B', 1, 1, 3, 'Lawyer'),\n",
       " (792, 'Female', 'Yes', 'No', '31', 'Low', 'D', 3, 1, 5, 'Artist'),\n",
       " (793, 'Male', 'Yes', 'No', '47', 'Average', 'B', 2, 4, 4, 'Entertainment'),\n",
       " (794, 'Male', 'No', 'No', '20', 'Low', 'D', 2, 7, 1, 'Healthcare'),\n",
       " (795, 'Female', 'Yes', 'Yes', '73', 'Low', 'B', 1, 1, 3, 'Lawyer'),\n",
       " (796, 'Male', 'Yes', 'No', '29', 'High', 'B', 1, None, 7, 'Doctor'),\n",
       " (797, 'Male', 'Yes', 'No', '25', 'Average', 'D', 1, 3, 4, 'Entertainment'),\n",
       " (798, 'Male', 'Yes', 'Yes', '52', 'High', 'C', 3, 0, 6, 'Executive'),\n",
       " (799, 'Female', 'No', 'Yes', '27', 'Low', 'C', 5, 1, 5, 'Artist'),\n",
       " (800, 'Male', 'Yes', 'Yes', '52', 'Average', 'C', 3, 1, 6, 'Executive'),\n",
       " (801, 'Female', 'Yes', 'Yes', '49', 'Low', 'C', 0, 0, 5, 'Artist'),\n",
       " (802, 'Male', 'Yes', 'nan', '60', 'Average', 'B', 3, None, None, None),\n",
       " (803, 'Male', 'No', 'Yes', '45', 'Low', 'D', 0, 0, 9, 'Marketing'),\n",
       " (804, 'Male', 'Yes', 'Yes', '59', 'Low', 'B', 0, 4, 5, 'Artist'),\n",
       " (805, 'Female', 'No', 'No', '18', 'Low', 'D', 4, 8, 1, 'Healthcare'),\n",
       " (806, 'Male', 'No', 'No', '18', 'Low', 'D', 2, 0, 1, 'Healthcare'),\n",
       " (807, 'Male', 'Yes', 'No', '55', 'Low', 'C', 0, 1, 5, 'Artist'),\n",
       " (808, 'Female', 'No', 'Yes', '59', 'Low', 'A', 0, 1, 4, 'Entertainment'),\n",
       " (809, 'Male', 'No', 'No', '22', 'Low', 'D', 1, 0, 1, 'Healthcare'),\n",
       " (810, 'Male', 'Yes', 'Yes', '52', 'High', 'C', 3, 0, 6, 'Executive'),\n",
       " (811, 'Male', 'Yes', 'Yes', '51', 'Average', 'C', 2, 1, 5, 'Artist'),\n",
       " (812, 'Male', 'Yes', 'No', '35', 'High', 'A', 4, 0, 6, 'Executive'),\n",
       " (813, 'Female', 'No', 'No', '26', 'Low', 'D', 2, 8, 6, 'Executive'),\n",
       " (814, 'Male', 'Yes', 'Yes', '38', 'Average', 'C', 1, 1, 4, 'Entertainment'),\n",
       " (815, 'Male', 'Yes', 'Yes', '43', 'Low', 'A', 3, 1, 7, 'Doctor'),\n",
       " (816, 'Male', 'No', 'Yes', '41', 'Low', 'A', 1, 1, 4, 'Entertainment'),\n",
       " (817, 'Female', 'No', 'No', '27', 'Low', 'D', 0, 8, 8, 'Homemaker'),\n",
       " (818, 'Male', 'Yes', 'Yes', '60', 'Low', 'B', 0, None, None, None),\n",
       " (819, 'Female', 'No', 'No', '25', 'Low', 'D', 3, None, 7, 'Doctor'),\n",
       " (820, 'Male', 'No', 'No', '18', 'Low', 'D', 4, None, 1, 'Healthcare'),\n",
       " (821, 'Male', 'Yes', 'Yes', '47', 'Average', 'C', 3, 0, 5, 'Artist'),\n",
       " (822, 'Male', 'Yes', 'No', '71', 'Low', 'D', 0, 1, 9, 'Marketing'),\n",
       " (823, 'Female', 'No', 'Yes', '32', 'Low', 'A', 2, 1, 4, 'Entertainment'),\n",
       " (824, 'Male', 'Yes', 'Yes', '60', 'Average', 'C', 2, 1, 4, 'Entertainment'),\n",
       " (825, 'Female', 'No', 'Yes', '33', 'Low', 'B', 0, 0, 1, 'Healthcare'),\n",
       " (826, 'Female', 'No', 'Yes', '37', 'Low', 'A', 0, 9, 5, 'Artist'),\n",
       " (827, 'Male', 'Yes', 'Yes', '48', 'Low', 'C', 0, 9, 8, 'Homemaker'),\n",
       " (828, 'Female', 'nan', 'No', '33', 'High', 'D', 4, 7, 2, 'Engineer'),\n",
       " (829, 'Female', 'Yes', 'Yes', '68', 'Average', 'C', 1, 1, 5, 'Artist'),\n",
       " (830, 'Male', 'Yes', 'No', '51', 'Low', 'A', 2, 0, 5, 'Artist'),\n",
       " (831, 'Male', 'Yes', 'Yes', '52', 'Low', 'C', 3, 1, 6, 'Executive'),\n",
       " (832, 'Male', 'Yes', 'Yes', '31', 'High', 'D', 3, 13, 9, 'Marketing'),\n",
       " (833, 'Male', 'No', 'No', '39', 'Low', 'A', 0, 1, 2, 'Engineer'),\n",
       " (834, 'Male', 'nan', 'Yes', '60', 'High', 'D', 0, 1, 3, 'Lawyer'),\n",
       " (835, 'Female', 'Yes', 'Yes', '50', 'High', 'B', 2, 4, 6, 'Executive'),\n",
       " (836, 'Female', 'No', 'No', '19', 'Low', 'D', 3, None, 1, 'Healthcare'),\n",
       " (837, 'Male', 'No', 'No', '18', 'Low', 'D', 5, 0, 1, 'Healthcare'),\n",
       " (838, 'Male', 'Yes', 'Yes', '37', 'Low', 'C', 1, 0, 5, 'Artist'),\n",
       " (839, 'Female', 'Yes', 'Yes', '50', 'Average', 'B', 2, 1, 7, 'Doctor'),\n",
       " (840, 'Female', 'No', 'No', '20', 'Low', 'D', 0, 0, 1, 'Healthcare'),\n",
       " (841, 'Male', 'No', 'No', '19', 'Low', 'D', 5, 1, 1, 'Healthcare'),\n",
       " (842, 'Male', 'No', 'Yes', '31', 'Low', 'D', 3, 0, 1, 'Healthcare'),\n",
       " (843, 'Male', 'Yes', 'Yes', '53', 'Average', 'B', 1, 14, 7, 'Doctor'),\n",
       " (844, 'Female', 'Yes', 'Yes', '26', 'Average', 'B', 1, 12, 5, 'Artist'),\n",
       " (845, 'Male', 'No', 'Yes', '37', 'Low', 'D', 2, 8, 1, 'Healthcare'),\n",
       " (846, 'Female', 'Yes', 'No', '49', 'Average', 'B', 1, None, 1, 'Healthcare'),\n",
       " (847, 'Male', 'Yes', 'No', '70', 'Low', 'B', 0, None, 4, 'Entertainment'),\n",
       " (848, 'Female', 'Yes', 'No', '48', 'High', 'D', 1, 1, 3, 'Lawyer'),\n",
       " (849, 'Male', 'No', 'No', '21', 'Low', 'D', 3, 0, 1, 'Healthcare'),\n",
       " (850, 'Male', 'No', 'No', '19', 'Low', 'D', 3, 0, 1, 'Healthcare'),\n",
       " (851, 'Male', 'nan', 'No', '61', 'High', 'A', 0, None, None, None),\n",
       " (852, 'Male', 'No', 'No', '31', 'Low', 'A', 2, None, 1, 'Healthcare'),\n",
       " (853, 'Female', 'Yes', 'Yes', '65', 'High', 'B', 2, 0, 3, 'Lawyer'),\n",
       " (854, 'Male', 'Yes', 'No', '73', 'Low', 'B', 0, 1, 6, 'Executive'),\n",
       " (855, 'Female', 'Yes', 'Yes', '50', 'Average', 'B', 2, 1, 5, 'Artist'),\n",
       " (856, 'Male', 'Yes', 'Yes', '70', 'Low', 'A', 0, 0, 3, 'Lawyer'),\n",
       " (857, 'Male', 'Yes', 'Yes', '58', 'Low', 'D', 0, 0, 2, 'Engineer'),\n",
       " (858, 'Female', 'nan', 'No', '58', 'High', 'D', 5, 14, 9, 'Marketing'),\n",
       " (859, 'Male', 'No', 'Yes', '18', 'Low', 'D', 1, 1, 1, 'Healthcare'),\n",
       " (860, 'Male', 'No', 'No', '32', 'Low', 'D', 3, 0, 1, 'Healthcare'),\n",
       " (861, 'Female', 'No', 'Yes', '40', 'Low', 'B', 0, 4, 3, 'Lawyer'),\n",
       " (862, 'Female', 'No', 'Yes', '49', 'Low', 'A', 4, 0, 9, 'Marketing'),\n",
       " (863, 'Male', 'No', 'Yes', '35', 'Low', 'A', 0, 8, 5, 'Artist'),\n",
       " (864, 'Female', 'Yes', 'Yes', '40', 'Low', 'B', 1, 0, 2, 'Engineer'),\n",
       " (865, 'Male', 'No', 'Yes', '30', 'Low', 'D', 3, 12, 9, 'Marketing'),\n",
       " (866, 'Female', 'No', 'Yes', '35', 'Low', 'A', 0, 5, 5, 'Artist'),\n",
       " (867, 'Male', 'Yes', 'No', '28', 'Low', 'D', 4, 0, 7, 'Doctor'),\n",
       " (868, 'Male', 'No', 'nan', '30', 'Low', 'A', 0, 8, 9, 'Marketing'),\n",
       " (869, 'Male', 'Yes', 'Yes', '39', 'Average', 'D', 1, 1, 1, 'Healthcare'),\n",
       " (870, 'Male', 'No', 'Yes', '39', 'Low', 'A', 7, 1, 4, 'Entertainment'),\n",
       " (871, 'Female', 'Yes', 'Yes', '26', 'High', 'D', 6, 6, 2, 'Engineer'),\n",
       " (872, 'Male', 'Yes', 'Yes', '36', 'High', 'C', 2, 0, 5, 'Artist'),\n",
       " (873, 'Female', 'No', 'Yes', '26', 'Low', 'D', 0, 9, 8, 'Homemaker'),\n",
       " (874, 'Male', 'No', 'No', '21', 'Low', 'D', 2, 1, 1, 'Healthcare'),\n",
       " (875, 'Female', 'No', 'Yes', '45', 'Low', 'B', 0, 2, 5, 'Artist'),\n",
       " (876, 'Male', 'Yes', 'No', '45', 'Average', 'B', 3, 10, 4, 'Entertainment'),\n",
       " (877, 'Female', 'Yes', 'Yes', '63', 'Average', 'C', 2, 0, 5, 'Artist'),\n",
       " (878, 'Female', 'No', 'Yes', '45', 'Low', 'A', 0, 1, 5, 'Artist'),\n",
       " (879, 'Female', 'Yes', 'Yes', '27', 'High', 'D', 1, 9, 1, 'Healthcare'),\n",
       " (880, 'Male', 'Yes', 'No', '47', 'Low', 'A', 6, 0, 6, 'Executive'),\n",
       " (881, 'Male', 'Yes', 'Yes', '36', 'Average', 'C', 3, 6, 5, 'Artist'),\n",
       " (882, 'Male', 'Yes', 'Yes', '49', 'Average', 'C', 1, None, 5, 'Artist'),\n",
       " (883, 'Male', 'No', 'No', '25', 'Low', 'C', 3, 7, 7, 'Doctor'),\n",
       " (884, 'Male', 'No', 'No', '32', 'Low', 'D', 6, 0, 1, 'Healthcare'),\n",
       " (885, 'Male', 'Yes', 'No', '41', 'High', 'A', 2, 6, 6, 'Executive'),\n",
       " (886, 'Female', 'Yes', 'Yes', '50', 'Average', 'A', 3, 9, 5, 'Artist'),\n",
       " (887, 'Female', 'Yes', 'Yes', '63', 'High', 'C', 1, 0, 5, 'Artist'),\n",
       " (888, 'Male', 'Yes', 'No', '69', 'Low', 'D', 3, None, 6, 'Executive'),\n",
       " (889, 'Female', 'Yes', 'Yes', '62', 'Low', 'B', 0, 1, 2, 'Engineer'),\n",
       " (890, 'Male', 'Yes', 'Yes', '63', 'High', 'C', 2, 1, 9, 'Marketing'),\n",
       " (891, 'Female', 'Yes', 'Yes', '36', 'Low', 'B', 1, 5, 5, 'Artist'),\n",
       " (892, 'Female', 'Yes', 'No', '31', 'Low', 'C', 1, 8, 2, 'Engineer'),\n",
       " (893, 'Female', 'No', 'No', '45', 'Low', 'A', 1, 8, 4, 'Entertainment'),\n",
       " (894, 'Female', 'Yes', 'Yes', '45', 'Average', 'B', 3, 1, 5, 'Artist'),\n",
       " (895, 'Male', 'No', 'No', '26', 'Low', 'D', 2, 1, 7, 'Doctor'),\n",
       " (896, 'Male', 'Yes', 'No', '49', 'Average', 'C', 3, None, 5, 'Artist'),\n",
       " (897, 'Female', 'No', 'Yes', '38', 'Low', 'D', 2, 8, 9, 'Marketing'),\n",
       " (898, 'Female', 'Yes', 'Yes', '74', 'High', 'B', 1, 1, 3, 'Lawyer'),\n",
       " (899, 'Male', 'No', 'Yes', '61', 'Low', 'C', 0, 1, 3, 'Lawyer'),\n",
       " (900, 'Female', 'No', 'Yes', '26', 'Low', 'D', 0, 0, 1, 'Healthcare'),\n",
       " (901, 'Female', 'Yes', 'Yes', '70', 'High', 'B', 1, 1, 3, 'Lawyer'),\n",
       " (902, 'Female', 'No', 'No', '30', 'Low', 'D', 2, None, 7, 'Doctor'),\n",
       " (903, 'Female', 'Yes', 'Yes', '57', 'Average', 'C', 3, 1, 5, 'Artist'),\n",
       " (904, 'Female', 'Yes', 'nan', '35', 'Average', 'A', 3, None, None, None),\n",
       " (905, 'Male', 'No', 'No', '20', 'Low', 'D', 2, 1, 1, 'Healthcare'),\n",
       " (906, 'Male', 'No', 'No', '19', 'Low', 'D', 3, 5, 1, 'Healthcare'),\n",
       " (907, 'Male', 'No', 'Yes', '52', 'Low', 'B', 2, 1, 5, 'Artist'),\n",
       " (908, 'Male', 'No', 'Yes', '31', 'Low', 'A', 5, None, 5, 'Artist'),\n",
       " (909, 'Male', 'No', 'No', '22', 'Low', 'D', 2, 0, 9, 'Marketing'),\n",
       " (910, 'Male', 'Yes', 'Yes', '27', 'Low', 'D', 0, 9, 8, 'Homemaker'),\n",
       " (911, 'Female', 'nan', 'Yes', '39', 'Low', 'B', 2, 1, 5, 'Artist'),\n",
       " (912, 'Female', 'No', 'No', '28', 'Low', 'D', 0, 8, 8, 'Homemaker'),\n",
       " (913, 'Male', 'Yes', 'No', '59', 'Average', 'B', 3, None, 2, 'Engineer'),\n",
       " (914, 'Female', 'Yes', 'Yes', '57', 'Average', 'C', 2, 1, 5, 'Artist'),\n",
       " (915, 'Male', 'No', 'Yes', '25', 'Low', 'D', 3, 1, 1, 'Healthcare'),\n",
       " (916, 'Female', 'Yes', 'No', '40', 'Low', 'A', 2, 0, 2, 'Engineer'),\n",
       " (917, 'Female', 'Yes', 'Yes', '53', 'Low', 'A', 1, 1, 5, 'Artist'),\n",
       " (918, 'Female', 'No', 'Yes', '32', 'Low', 'A', 0, 9, 5, 'Artist'),\n",
       " (919, 'Female', 'No', 'Yes', '70', 'Low', 'B', 1, 0, 5, 'Artist'),\n",
       " (920, 'Male', 'No', 'Yes', '48', 'Low', 'A', 0, 0, 2, 'Engineer'),\n",
       " (921, 'Male', 'Yes', 'Yes', '75', 'High', 'C', 1, 1, 3, 'Lawyer'),\n",
       " (922, 'Male', 'Yes', 'Yes', '62', 'Low', 'B', 0, 0, 5, 'Artist'),\n",
       " (923, 'Male', 'Yes', 'No', '41', 'Average', 'B', 5, 1, 5, 'Artist'),\n",
       " (924, 'Male', 'Yes', 'Yes', '55', 'Average', 'C', 2, 0, 5, 'Artist'),\n",
       " (925, 'Female', 'No', 'Yes', '35', 'Low', 'A', 0, 8, 5, 'Artist'),\n",
       " (926, 'Female', 'No', 'No', '20', 'Low', 'D', 2, 4, 1, 'Healthcare'),\n",
       " (927, 'Male', 'No', 'No', '20', 'Low', 'D', 2, 0, 1, 'Healthcare'),\n",
       " (928, 'Female', 'No', 'No', '35', 'Low', 'C', 4, None, None, None),\n",
       " (929, 'Female', 'Yes', 'Yes', '56', 'Average', 'B', 2, 1, 4, 'Entertainment'),\n",
       " (930, 'Male', 'Yes', 'No', '39', 'High', 'D', 6, 1, 6, 'Executive'),\n",
       " (931, 'Male', 'Yes', 'Yes', '42', 'Low', 'D', 2, None, 4, 'Entertainment'),\n",
       " (932, 'Male', 'Yes', 'Yes', '35', 'Average', 'B', 1, 1, 5, 'Artist'),\n",
       " (933, 'Female', 'No', 'No', '35', 'Low', 'A', 0, 1, 2, 'Engineer'),\n",
       " (934, 'Male', 'No', 'Yes', '33', 'Low', 'C', 1, 0, 1, 'Healthcare'),\n",
       " (935, 'Male', 'No', 'Yes', '42', 'Low', 'A', 1, 1, 5, 'Artist'),\n",
       " (936, 'Male', 'No', 'Yes', '35', 'Low', 'A', 1, 5, 5, 'Artist'),\n",
       " (937, 'Female', 'No', 'No', '27', 'Low', 'A', 2, 0, 1, 'Healthcare'),\n",
       " (938, 'Male', 'No', 'No', '33', 'Low', 'D', 1, 6, 4, 'Entertainment'),\n",
       " (939, 'Female', 'No', 'Yes', '32', 'Low', 'D', 0, 9, 5, 'Artist'),\n",
       " (940, 'Female', 'No', 'No', '35', 'Low', 'D', 1, 4, 4, 'Entertainment'),\n",
       " (941, 'Male', 'No', 'No', '22', 'Low', 'D', 8, 0, 1, 'Healthcare'),\n",
       " (942, 'Male', 'Yes', 'Yes', '40', 'Average', 'C', 3, 3, 5, 'Artist'),\n",
       " (943, 'Male', 'Yes', 'Yes', '51', 'Average', 'C', 1, 3, 5, 'Artist'),\n",
       " (944, 'Male', 'Yes', 'Yes', '88', 'Low', 'B', 0, None, 3, 'Lawyer'),\n",
       " (945, 'Male', 'Yes', 'Yes', '82', 'High', 'A', 1, 1, 3, 'Lawyer'),\n",
       " (946, 'Male', 'Yes', 'Yes', '43', 'Average', 'B', 2, 6, 5, 'Artist'),\n",
       " (947, 'Female', 'No', 'No', '29', 'Low', 'A', 3, 9, 9, 'Marketing'),\n",
       " (948, 'Female', 'No', 'Yes', '38', 'Low', 'B', 0, 9, 5, 'Artist'),\n",
       " (949, 'Male', 'Yes', 'Yes', '37', 'Average', 'C', 2, 0, 5, 'Artist'),\n",
       " (950, 'Male', 'No', 'Yes', '32', 'Low', 'D', 5, 0, 1, 'Healthcare'),\n",
       " (951, 'Male', 'No', 'Yes', '26', 'Low', 'D', 3, 5, 4, 'Entertainment'),\n",
       " (952, 'Male', 'Yes', 'Yes', '39', 'Average', 'A', 3, 0, 4, 'Entertainment'),\n",
       " (953, 'Female', 'No', 'Yes', '43', 'Low', 'A', 0, 0, 5, 'Artist'),\n",
       " (954, 'Male', 'Yes', 'Yes', '51', 'Average', 'C', 1, 11, 7, 'Doctor'),\n",
       " (955, 'Male', 'Yes', 'Yes', '52', 'Average', 'C', 1, 0, 5, 'Artist'),\n",
       " (956, 'Male', 'No', 'No', '51', 'Low', 'A', 0, 1, 4, 'Entertainment'),\n",
       " (957, 'Male', 'No', 'No', '20', 'Low', 'D', 3, None, 1, 'Healthcare'),\n",
       " (958, 'Male', 'No', 'No', '33', 'Low', 'C', 4, 0, 1, 'Healthcare'),\n",
       " (959, 'Female', 'No', 'Yes', '36', 'Low', 'A', 0, None, 4, 'Entertainment'),\n",
       " (960, 'Female', 'Yes', 'No', '39', 'Average', 'D', 5, None, 2, 'Engineer'),\n",
       " (961, 'Male', 'Yes', 'Yes', '48', 'Low', 'C', 1, 0, 5, 'Artist'),\n",
       " (962, 'Female', 'Yes', 'No', '78', 'High', 'B', 1, 1, 3, 'Lawyer'),\n",
       " (963, 'Male', 'Yes', 'Yes', '46', 'Low', 'A', 0, 1, 5, 'Artist'),\n",
       " (964, 'Female', 'Yes', 'No', '26', 'Low', 'D', 3, None, 8, 'Homemaker'),\n",
       " (965, 'Male', 'No', 'No', '26', 'Low', 'A', 6, 0, 1, 'Healthcare'),\n",
       " (966, 'Female', 'No', 'Yes', '37', 'Low', 'A', 0, 7, 2, 'Engineer'),\n",
       " (967, 'Female', 'Yes', 'Yes', '75', 'High', 'B', 0, 1, 8, 'Homemaker'),\n",
       " (968, 'Male', 'No', 'No', '19', 'Low', 'D', 4, None, 7, 'Doctor'),\n",
       " (969, 'Male', 'No', 'No', '22', 'Low', 'D', 3, 1, 1, 'Healthcare'),\n",
       " (970, 'Male', 'Yes', 'No', '27', 'Low', 'D', 2, 6, 2, 'Engineer'),\n",
       " (971, 'Male', 'nan', 'Yes', '57', 'High', 'D', 2, 3, 5, 'Artist'),\n",
       " (972, 'Female', 'No', 'No', '32', 'Low', 'B', 4, None, 5, 'Artist'),\n",
       " (973, 'Male', 'Yes', 'No', '37', 'Average', 'D', 3, 0, 4, 'Entertainment'),\n",
       " (974, 'Female', 'No', 'Yes', '33', 'Low', 'B', 2, 1, 9, 'Marketing'),\n",
       " (975, 'Female', 'Yes', 'No', '57', 'Low', 'B', 0, 0, 2, 'Engineer'),\n",
       " (976, 'Male', 'No', 'Yes', '35', 'Low', 'A', 2, 0, 4, 'Entertainment'),\n",
       " (977, 'Female', 'No', 'Yes', '26', 'Low', 'A', 2, 1, 5, 'Artist'),\n",
       " (978, 'Male', 'No', 'Yes', '31', 'Low', 'A', 1, 1, 7, 'Doctor'),\n",
       " (979, 'Female', 'No', 'Yes', '53', 'Low', 'D', 0, 1, 5, 'Artist'),\n",
       " (980, 'Female', 'Yes', 'Yes', '56', 'High', 'B', 1, 2, 2, 'Engineer'),\n",
       " (981, 'Male', 'Yes', 'Yes', '65', 'Low', 'D', 0, 0, 3, 'Lawyer'),\n",
       " (982, 'Male', 'No', 'No', '23', 'Low', 'D', 2, 7, 1, 'Healthcare'),\n",
       " (983, 'Male', 'Yes', 'No', '68', 'High', 'B', 1, 1, 6, 'Executive'),\n",
       " (984, 'Female', 'No', 'No', '32', 'Low', 'D', 0, 9, 8, 'Homemaker'),\n",
       " (985, 'Female', 'No', 'No', '21', 'Low', 'D', 4, 0, 1, 'Healthcare'),\n",
       " (986, 'Female', 'Yes', 'Yes', '61', 'Low', 'C', 1, None, 5, 'Artist'),\n",
       " (987, 'Male', 'Yes', 'Yes', '25', 'Average', 'A', 1, 1, 4, 'Entertainment'),\n",
       " (988, 'Female', 'Yes', 'Yes', '36', 'Average', 'B', 2, 0, 4, 'Entertainment'),\n",
       " (989, 'Male', 'No', 'No', '25', 'Low', 'A', 0, 3, 6, 'Executive'),\n",
       " (990, 'Male', 'Yes', 'Yes', '58', 'Average', 'C', 3, 9, 5, 'Artist'),\n",
       " (991, 'Male', 'Yes', 'Yes', '66', 'Low', 'A', 1, 1, 6, 'Executive'),\n",
       " (992, 'Female', 'No', 'Yes', '42', 'Low', 'A', 1, 1, 5, 'Artist'),\n",
       " (993, 'Female', 'Yes', 'Yes', '36', 'Low', 'B', 1, 13, 7, 'Doctor'),\n",
       " (994, 'Male', 'Yes', 'No', '58', 'Low', 'B', 1, 9, 5, 'Artist'),\n",
       " (995, 'Female', 'No', 'No', '36', 'Low', 'A', 0, 0, 2, 'Engineer'),\n",
       " (996, 'Male', 'No', 'No', '28', 'Low', 'C', 3, 2, 1, 'Healthcare'),\n",
       " (997, 'Male', 'Yes', 'No', '45', 'Average', 'C', 1, 4, 5, 'Artist'),\n",
       " (998, 'Female', 'Yes', 'No', '35', 'Low', 'A', 1, 10, 4, 'Entertainment'),\n",
       " (999, 'Male', 'Yes', 'Yes', '59', 'Average', 'C', 2, 11, 5, 'Artist'),\n",
       " (1000, 'Male', 'Yes', 'Yes', '49', 'Low', 'A', 0, 0, 4, 'Entertainment'),\n",
       " ...]"
      ]
     },
     "execution_count": 29,
     "metadata": {},
     "output_type": "execute_result"
    }
   ],
   "source": [
    "data_raw"
   ]
  },
  {
   "cell_type": "code",
   "execution_count": 30,
   "metadata": {
    "ExecuteTime": {
     "end_time": "2021-04-06T07:59:31.156525Z",
     "start_time": "2021-04-06T07:59:31.113867Z"
    }
   },
   "outputs": [],
   "source": [
    "data = pd.DataFrame(data_raw, columns=['id','gender','married','graduated','age','score','segment','family_size','work_experience','profession_id','profession'])\n",
    "data.drop(columns=['profession_id'], inplace=True)"
   ]
  },
  {
   "cell_type": "code",
   "execution_count": 31,
   "metadata": {
    "ExecuteTime": {
     "end_time": "2021-04-06T07:59:32.326614Z",
     "start_time": "2021-04-06T07:59:32.298678Z"
    },
    "scrolled": true
   },
   "outputs": [
    {
     "data": {
      "text/html": [
       "<div>\n",
       "<style scoped>\n",
       "    .dataframe tbody tr th:only-of-type {\n",
       "        vertical-align: middle;\n",
       "    }\n",
       "\n",
       "    .dataframe tbody tr th {\n",
       "        vertical-align: top;\n",
       "    }\n",
       "\n",
       "    .dataframe thead th {\n",
       "        text-align: right;\n",
       "    }\n",
       "</style>\n",
       "<table border=\"1\" class=\"dataframe\">\n",
       "  <thead>\n",
       "    <tr style=\"text-align: right;\">\n",
       "      <th></th>\n",
       "      <th>id</th>\n",
       "      <th>gender</th>\n",
       "      <th>married</th>\n",
       "      <th>graduated</th>\n",
       "      <th>age</th>\n",
       "      <th>score</th>\n",
       "      <th>segment</th>\n",
       "      <th>family_size</th>\n",
       "      <th>work_experience</th>\n",
       "      <th>profession</th>\n",
       "    </tr>\n",
       "  </thead>\n",
       "  <tbody>\n",
       "    <tr>\n",
       "      <th>0</th>\n",
       "      <td>1</td>\n",
       "      <td>Male</td>\n",
       "      <td>No</td>\n",
       "      <td>No</td>\n",
       "      <td>22</td>\n",
       "      <td>Low</td>\n",
       "      <td>D</td>\n",
       "      <td>3</td>\n",
       "      <td>1.0</td>\n",
       "      <td>Healthcare</td>\n",
       "    </tr>\n",
       "    <tr>\n",
       "      <th>1</th>\n",
       "      <td>2</td>\n",
       "      <td>Female</td>\n",
       "      <td>Yes</td>\n",
       "      <td>Yes</td>\n",
       "      <td>38</td>\n",
       "      <td>Average</td>\n",
       "      <td>A</td>\n",
       "      <td>2</td>\n",
       "      <td>NaN</td>\n",
       "      <td>Engineer</td>\n",
       "    </tr>\n",
       "    <tr>\n",
       "      <th>2</th>\n",
       "      <td>3</td>\n",
       "      <td>Female</td>\n",
       "      <td>Yes</td>\n",
       "      <td>Yes</td>\n",
       "      <td>67</td>\n",
       "      <td>Low</td>\n",
       "      <td>B</td>\n",
       "      <td>0</td>\n",
       "      <td>1.0</td>\n",
       "      <td>Engineer</td>\n",
       "    </tr>\n",
       "    <tr>\n",
       "      <th>3</th>\n",
       "      <td>4</td>\n",
       "      <td>Male</td>\n",
       "      <td>Yes</td>\n",
       "      <td>Yes</td>\n",
       "      <td>67</td>\n",
       "      <td>High</td>\n",
       "      <td>B</td>\n",
       "      <td>1</td>\n",
       "      <td>0.0</td>\n",
       "      <td>Lawyer</td>\n",
       "    </tr>\n",
       "    <tr>\n",
       "      <th>4</th>\n",
       "      <td>5</td>\n",
       "      <td>Female</td>\n",
       "      <td>Yes</td>\n",
       "      <td>Yes</td>\n",
       "      <td>40</td>\n",
       "      <td>High</td>\n",
       "      <td>A</td>\n",
       "      <td>5</td>\n",
       "      <td>NaN</td>\n",
       "      <td>Entertainment</td>\n",
       "    </tr>\n",
       "    <tr>\n",
       "      <th>5</th>\n",
       "      <td>6</td>\n",
       "      <td>Male</td>\n",
       "      <td>Yes</td>\n",
       "      <td>No</td>\n",
       "      <td>56</td>\n",
       "      <td>Average</td>\n",
       "      <td>C</td>\n",
       "      <td>1</td>\n",
       "      <td>0.0</td>\n",
       "      <td>Artist</td>\n",
       "    </tr>\n",
       "    <tr>\n",
       "      <th>6</th>\n",
       "      <td>7</td>\n",
       "      <td>Male</td>\n",
       "      <td>No</td>\n",
       "      <td>Yes</td>\n",
       "      <td>32</td>\n",
       "      <td>Low</td>\n",
       "      <td>C</td>\n",
       "      <td>2</td>\n",
       "      <td>1.0</td>\n",
       "      <td>Healthcare</td>\n",
       "    </tr>\n",
       "    <tr>\n",
       "      <th>7</th>\n",
       "      <td>8</td>\n",
       "      <td>Female</td>\n",
       "      <td>No</td>\n",
       "      <td>Yes</td>\n",
       "      <td>33</td>\n",
       "      <td>Low</td>\n",
       "      <td>D</td>\n",
       "      <td>2</td>\n",
       "      <td>1.0</td>\n",
       "      <td>Healthcare</td>\n",
       "    </tr>\n",
       "    <tr>\n",
       "      <th>8</th>\n",
       "      <td>9</td>\n",
       "      <td>Female</td>\n",
       "      <td>Yes</td>\n",
       "      <td>Yes</td>\n",
       "      <td>61</td>\n",
       "      <td>Low</td>\n",
       "      <td>D</td>\n",
       "      <td>2</td>\n",
       "      <td>0.0</td>\n",
       "      <td>Engineer</td>\n",
       "    </tr>\n",
       "    <tr>\n",
       "      <th>9</th>\n",
       "      <td>10</td>\n",
       "      <td>Female</td>\n",
       "      <td>Yes</td>\n",
       "      <td>Yes</td>\n",
       "      <td>55</td>\n",
       "      <td>Average</td>\n",
       "      <td>C</td>\n",
       "      <td>3</td>\n",
       "      <td>1.0</td>\n",
       "      <td>Artist</td>\n",
       "    </tr>\n",
       "  </tbody>\n",
       "</table>\n",
       "</div>"
      ],
      "text/plain": [
       "   id  gender married graduated age    score segment  family_size  \\\n",
       "0   1    Male      No        No  22      Low       D            3   \n",
       "1   2  Female     Yes       Yes  38  Average       A            2   \n",
       "2   3  Female     Yes       Yes  67      Low       B            0   \n",
       "3   4    Male     Yes       Yes  67     High       B            1   \n",
       "4   5  Female     Yes       Yes  40     High       A            5   \n",
       "5   6    Male     Yes        No  56  Average       C            1   \n",
       "6   7    Male      No       Yes  32      Low       C            2   \n",
       "7   8  Female      No       Yes  33      Low       D            2   \n",
       "8   9  Female     Yes       Yes  61      Low       D            2   \n",
       "9  10  Female     Yes       Yes  55  Average       C            3   \n",
       "\n",
       "   work_experience     profession  \n",
       "0              1.0     Healthcare  \n",
       "1              NaN       Engineer  \n",
       "2              1.0       Engineer  \n",
       "3              0.0         Lawyer  \n",
       "4              NaN  Entertainment  \n",
       "5              0.0         Artist  \n",
       "6              1.0     Healthcare  \n",
       "7              1.0     Healthcare  \n",
       "8              0.0       Engineer  \n",
       "9              1.0         Artist  "
      ]
     },
     "execution_count": 31,
     "metadata": {},
     "output_type": "execute_result"
    }
   ],
   "source": [
    "data.head(10)"
   ]
  },
  {
   "cell_type": "code",
   "execution_count": 32,
   "metadata": {
    "ExecuteTime": {
     "end_time": "2021-04-06T07:59:34.372698Z",
     "start_time": "2021-04-06T07:59:34.364720Z"
    }
   },
   "outputs": [
    {
     "data": {
      "text/plain": [
       "(8068, 10)"
      ]
     },
     "execution_count": 32,
     "metadata": {},
     "output_type": "execute_result"
    }
   ],
   "source": [
    "data.shape"
   ]
  },
  {
   "cell_type": "markdown",
   "metadata": {},
   "source": [
    "#### 💾 Save your results\n",
    "\n",
    "Run the following cell to save your results."
   ]
  },
  {
   "cell_type": "code",
   "execution_count": 33,
   "metadata": {
    "ExecuteTime": {
     "end_time": "2021-04-06T07:59:54.717582Z",
     "start_time": "2021-04-06T07:59:54.709442Z"
    },
    "scrolled": true
   },
   "outputs": [],
   "source": [
    "ChallengeResult('sql', query=query).write()"
   ]
  },
  {
   "cell_type": "markdown",
   "metadata": {},
   "source": [
    "### Loading data from a CSV file"
   ]
  },
  {
   "cell_type": "markdown",
   "metadata": {},
   "source": [
    "**📝 Load the data from this [URL](https://wagon-public-datasets.s3.amazonaws.com/certification_paris_2021Q1/customers.csv) inside a `DataFrame` named `customers`.** \n",
    "\n",
    "Also, you can download the dataset into the `data` directory."
   ]
  },
  {
   "cell_type": "code",
   "execution_count": 36,
   "metadata": {
    "ExecuteTime": {
     "end_time": "2021-04-06T08:01:52.940249Z",
     "start_time": "2021-04-06T08:01:52.889122Z"
    }
   },
   "outputs": [],
   "source": [
    "customers = pd.read_csv('data/customers.csv')"
   ]
  },
  {
   "cell_type": "code",
   "execution_count": 37,
   "metadata": {
    "ExecuteTime": {
     "end_time": "2021-04-06T08:02:00.137122Z",
     "start_time": "2021-04-06T08:02:00.112934Z"
    },
    "scrolled": true
   },
   "outputs": [
    {
     "data": {
      "text/html": [
       "<div>\n",
       "<style scoped>\n",
       "    .dataframe tbody tr th:only-of-type {\n",
       "        vertical-align: middle;\n",
       "    }\n",
       "\n",
       "    .dataframe tbody tr th {\n",
       "        vertical-align: top;\n",
       "    }\n",
       "\n",
       "    .dataframe thead th {\n",
       "        text-align: right;\n",
       "    }\n",
       "</style>\n",
       "<table border=\"1\" class=\"dataframe\">\n",
       "  <thead>\n",
       "    <tr style=\"text-align: right;\">\n",
       "      <th></th>\n",
       "      <th>ID</th>\n",
       "      <th>Gender</th>\n",
       "      <th>Ever_Married</th>\n",
       "      <th>Age</th>\n",
       "      <th>Graduated</th>\n",
       "      <th>Profession</th>\n",
       "      <th>Work_Experience</th>\n",
       "      <th>Spending_Score</th>\n",
       "      <th>Family_Size</th>\n",
       "      <th>Segmentation</th>\n",
       "    </tr>\n",
       "  </thead>\n",
       "  <tbody>\n",
       "    <tr>\n",
       "      <th>0</th>\n",
       "      <td>462809</td>\n",
       "      <td>Male</td>\n",
       "      <td>No</td>\n",
       "      <td>22</td>\n",
       "      <td>No</td>\n",
       "      <td>Healthcare</td>\n",
       "      <td>1.0</td>\n",
       "      <td>Low</td>\n",
       "      <td>4.0</td>\n",
       "      <td>D</td>\n",
       "    </tr>\n",
       "    <tr>\n",
       "      <th>1</th>\n",
       "      <td>462643</td>\n",
       "      <td>Female</td>\n",
       "      <td>Yes</td>\n",
       "      <td>38</td>\n",
       "      <td>Yes</td>\n",
       "      <td>Engineer</td>\n",
       "      <td>NaN</td>\n",
       "      <td>Average</td>\n",
       "      <td>3.0</td>\n",
       "      <td>A</td>\n",
       "    </tr>\n",
       "    <tr>\n",
       "      <th>2</th>\n",
       "      <td>466315</td>\n",
       "      <td>Female</td>\n",
       "      <td>Yes</td>\n",
       "      <td>67</td>\n",
       "      <td>Yes</td>\n",
       "      <td>Engineer</td>\n",
       "      <td>1.0</td>\n",
       "      <td>Low</td>\n",
       "      <td>1.0</td>\n",
       "      <td>B</td>\n",
       "    </tr>\n",
       "    <tr>\n",
       "      <th>3</th>\n",
       "      <td>461735</td>\n",
       "      <td>Male</td>\n",
       "      <td>Yes</td>\n",
       "      <td>67</td>\n",
       "      <td>Yes</td>\n",
       "      <td>Lawyer</td>\n",
       "      <td>0.0</td>\n",
       "      <td>High</td>\n",
       "      <td>2.0</td>\n",
       "      <td>B</td>\n",
       "    </tr>\n",
       "    <tr>\n",
       "      <th>4</th>\n",
       "      <td>462669</td>\n",
       "      <td>Female</td>\n",
       "      <td>Yes</td>\n",
       "      <td>40</td>\n",
       "      <td>Yes</td>\n",
       "      <td>Entertainment</td>\n",
       "      <td>NaN</td>\n",
       "      <td>High</td>\n",
       "      <td>6.0</td>\n",
       "      <td>A</td>\n",
       "    </tr>\n",
       "  </tbody>\n",
       "</table>\n",
       "</div>"
      ],
      "text/plain": [
       "       ID  Gender Ever_Married  Age Graduated     Profession  Work_Experience  \\\n",
       "0  462809    Male           No   22        No     Healthcare              1.0   \n",
       "1  462643  Female          Yes   38       Yes       Engineer              NaN   \n",
       "2  466315  Female          Yes   67       Yes       Engineer              1.0   \n",
       "3  461735    Male          Yes   67       Yes         Lawyer              0.0   \n",
       "4  462669  Female          Yes   40       Yes  Entertainment              NaN   \n",
       "\n",
       "  Spending_Score  Family_Size Segmentation  \n",
       "0            Low          4.0            D  \n",
       "1        Average          3.0            A  \n",
       "2            Low          1.0            B  \n",
       "3           High          2.0            B  \n",
       "4           High          6.0            A  "
      ]
     },
     "execution_count": 37,
     "metadata": {},
     "output_type": "execute_result"
    }
   ],
   "source": [
    "customers.head()"
   ]
  },
  {
   "cell_type": "code",
   "execution_count": 50,
   "metadata": {
    "ExecuteTime": {
     "end_time": "2021-04-06T08:11:20.600019Z",
     "start_time": "2021-04-06T08:11:20.551777Z"
    },
    "scrolled": true
   },
   "outputs": [
    {
     "name": "stdout",
     "output_type": "stream",
     "text": [
      "<class 'pandas.core.frame.DataFrame'>\n",
      "RangeIndex: 8068 entries, 0 to 8067\n",
      "Data columns (total 10 columns):\n",
      " #   Column           Non-Null Count  Dtype  \n",
      "---  ------           --------------  -----  \n",
      " 0   ID               8068 non-null   int64  \n",
      " 1   Gender           8068 non-null   object \n",
      " 2   Ever_Married     7928 non-null   object \n",
      " 3   Age              8068 non-null   int64  \n",
      " 4   Graduated        7990 non-null   object \n",
      " 5   Profession       7944 non-null   object \n",
      " 6   Work_Experience  7239 non-null   float64\n",
      " 7   Spending_Score   8068 non-null   object \n",
      " 8   Family_Size      7733 non-null   float64\n",
      " 9   Segmentation     8068 non-null   object \n",
      "dtypes: float64(2), int64(2), object(6)\n",
      "memory usage: 630.4+ KB\n"
     ]
    }
   ],
   "source": [
    "customers.info()"
   ]
  },
  {
   "cell_type": "code",
   "execution_count": null,
   "metadata": {},
   "outputs": [],
   "source": [
    "cust_A = "
   ]
  },
  {
   "cell_type": "code",
   "execution_count": null,
   "metadata": {},
   "outputs": [],
   "source": []
  },
  {
   "cell_type": "markdown",
   "metadata": {},
   "source": [
    "**💾 Save your results**\n",
    "\n",
    "Run the following cell to save your results."
   ]
  },
  {
   "cell_type": "code",
   "execution_count": 38,
   "metadata": {
    "ExecuteTime": {
     "end_time": "2021-04-06T08:02:08.128953Z",
     "start_time": "2021-04-06T08:02:08.115283Z"
    }
   },
   "outputs": [],
   "source": [
    "ChallengeResult('csv', data=customers).write()"
   ]
  },
  {
   "cell_type": "markdown",
   "metadata": {},
   "source": [
    "## Data consulting challenge (33%)"
   ]
  },
  {
   "cell_type": "markdown",
   "metadata": {},
   "source": [
    "### Data analysis & presentation\n",
    "\n",
    "> Who are the customers composing the 4 segments? \n",
    "\n",
    "Based on the analysis of the `customers` dataset, prepare a slides deck to present your conclusions to the Marketing manager Debrah. The presentation must contain **5 slides maximum** (including the title slide). Feel free to choose the slide app of your choice.\n",
    "\n",
    "ℹ️ Debrah is in fond of illustrations and statistics!\n",
    "\n",
    "⚠️ Save your presentation in the current directory!"
   ]
  },
  {
   "cell_type": "code",
   "execution_count": 70,
   "metadata": {
    "ExecuteTime": {
     "end_time": "2021-04-06T08:32:11.533558Z",
     "start_time": "2021-04-06T08:32:11.109240Z"
    }
   },
   "outputs": [
    {
     "data": {
      "text/plain": [
       "<AxesSubplot:xlabel='Spending_Score', ylabel='Count'>"
      ]
     },
     "execution_count": 70,
     "metadata": {},
     "output_type": "execute_result"
    },
    {
     "data": {
      "image/png": "[encoded data removed]",
      "text/plain": [
       "<Figure size 1440x576 with 2 Axes>"
      ]
     },
     "metadata": {
      "needs_background": "light"
     },
     "output_type": "display_data"
    }
   ],
   "source": [
    "# Start your data analysis!\n",
    "fig, axes = plt.subplots(1, 2, figsize=(20, 8))\n",
    "sns.histplot(customers.Gender, ax= axes[0])\n",
    "sns.histplot(customers.Spending_Score, ax= axes[1])"
   ]
  },
  {
   "cell_type": "code",
   "execution_count": 55,
   "metadata": {
    "ExecuteTime": {
     "end_time": "2021-04-06T08:16:28.154617Z",
     "start_time": "2021-04-06T08:16:27.739327Z"
    },
    "scrolled": true
   },
   "outputs": [
    {
     "data": {
      "text/plain": [
       "<Figure size 1440x720 with 0 Axes>"
      ]
     },
     "metadata": {},
     "output_type": "display_data"
    },
    {
     "data": {
      "image/png": "[encoded data removed]",
      "text/plain": [
       "<Figure size 1080x360 with 1 Axes>"
      ]
     },
     "metadata": {
      "needs_background": "light"
     },
     "output_type": "display_data"
    }
   ],
   "source": [
    "palette = sns.color_palette('Paired', 10)\n",
    "plt.figure(figsize=(20,10))\n",
    "sns.catplot(x=\"Profession\", kind=\"count\", palette=palette, data=customers, height=5, aspect=3);\n",
    "sns.despine()\n",
    "plt.title('Professions');\n",
    "plt.show()"
   ]
  },
  {
   "cell_type": "code",
   "execution_count": 57,
   "metadata": {
    "ExecuteTime": {
     "end_time": "2021-04-06T08:20:04.413718Z",
     "start_time": "2021-04-06T08:20:03.928944Z"
    }
   },
   "outputs": [
    {
     "data": {
      "image/png": "[encoded data removed]",
      "text/plain": [
       "<Figure size 432x288 with 1 Axes>"
      ]
     },
     "metadata": {
      "needs_background": "light"
     },
     "output_type": "display_data"
    }
   ],
   "source": [
    "def plot_dist(series=customers.Age, title=\"Age Distribution\"):\n",
    "    sns.histplot(series, kde=True, stat='density', discrete=True)\n",
    "    sns.despine()\n",
    "    plt.title(title);\n",
    "    plt.show()\n",
    "plot_dist()"
   ]
  },
  {
   "cell_type": "code",
   "execution_count": 61,
   "metadata": {
    "ExecuteTime": {
     "end_time": "2021-04-06T08:21:29.238947Z",
     "start_time": "2021-04-06T08:21:28.974569Z"
    },
    "scrolled": true
   },
   "outputs": [
    {
     "data": {
      "image/png": "[encoded data removed]",
      "text/plain": [
       "<Figure size 432x288 with 1 Axes>"
      ]
     },
     "metadata": {
      "needs_background": "light"
     },
     "output_type": "display_data"
    }
   ],
   "source": [
    "def plot_dist(series=customers.Family_Size, title=\"Family_size Distribution\"):\n",
    "    sns.histplot(series, stat='density', discrete=True)\n",
    "    sns.despine()\n",
    "    plt.title(title);\n",
    "    plt.show()\n",
    "plot_dist()"
   ]
  },
  {
   "cell_type": "code",
   "execution_count": 67,
   "metadata": {
    "ExecuteTime": {
     "end_time": "2021-04-06T08:30:59.999831Z",
     "start_time": "2021-04-06T08:30:39.157852Z"
    }
   },
   "outputs": [
    {
     "data": {
      "text/plain": [
       "<BarContainer object of 8068 artists>"
      ]
     },
     "execution_count": 67,
     "metadata": {},
     "output_type": "execute_result"
    },
    {
     "data": {
      "image/png": "[encoded data removed]",
      "text/plain": [
       "<Figure size 432x288 with 1 Axes>"
      ]
     },
     "metadata": {
      "needs_background": "light"
     },
     "output_type": "display_data"
    }
   ],
   "source": [
    "plt.bar(customers.Gender, customers.Segmentation)"
   ]
  },
  {
   "cell_type": "markdown",
   "metadata": {},
   "source": [
    "### Segmentation relevance\n",
    "\n",
    "Debrah has a doubt about the number of customers segments designed by the Sales department. Base on an empirical method, the elbow method, and a clustering approach **can you tell her if it is an optimal segmentation or not?**\n",
    "\n",
    "Store the optimal number of segments inside the `n_clusters` variable."
   ]
  },
  {
   "cell_type": "code",
   "execution_count": 74,
   "metadata": {
    "ExecuteTime": {
     "end_time": "2021-04-06T08:43:26.017078Z",
     "start_time": "2021-04-06T08:43:25.986153Z"
    }
   },
   "outputs": [
    {
     "ename": "ValueError",
     "evalue": "could not convert string to float: 'D'",
     "output_type": "error",
     "traceback": [
      "\u001b[0;31m---------------------------------------------------------------------------\u001b[0m",
      "\u001b[0;31mValueError\u001b[0m                                Traceback (most recent call last)",
      "\u001b[0;32m<ipython-input-74-02eb400bfd1f>\u001b[0m in \u001b[0;36m<module>\u001b[0;34m\u001b[0m\n\u001b[1;32m      1\u001b[0m \u001b[0;32mfrom\u001b[0m \u001b[0msklearn\u001b[0m\u001b[0;34m.\u001b[0m\u001b[0mcluster\u001b[0m \u001b[0;32mimport\u001b[0m \u001b[0mKMeans\u001b[0m\u001b[0;34m\u001b[0m\u001b[0;34m\u001b[0m\u001b[0m\n\u001b[1;32m      2\u001b[0m \u001b[0mkm\u001b[0m \u001b[0;34m=\u001b[0m \u001b[0mKMeans\u001b[0m\u001b[0;34m(\u001b[0m\u001b[0mn_clusters\u001b[0m\u001b[0;34m=\u001b[0m\u001b[0;36m4\u001b[0m\u001b[0;34m)\u001b[0m\u001b[0;34m\u001b[0m\u001b[0;34m\u001b[0m\u001b[0m\n\u001b[0;32m----> 3\u001b[0;31m \u001b[0mkm\u001b[0m\u001b[0;34m.\u001b[0m\u001b[0mfit\u001b[0m\u001b[0;34m(\u001b[0m\u001b[0mcustomers\u001b[0m\u001b[0;34m.\u001b[0m\u001b[0mSegmentation\u001b[0m\u001b[0;34m)\u001b[0m\u001b[0;34m\u001b[0m\u001b[0;34m\u001b[0m\u001b[0m\n\u001b[0m",
      "\u001b[0;32m~/.pyenv/versions/3.8.6/envs/lewagon/lib/python3.8/site-packages/sklearn/cluster/_k_means.py\u001b[0m in \u001b[0;36mfit\u001b[0;34m(self, X, y, sample_weight)\u001b[0m\n\u001b[1;32m    855\u001b[0m         \u001b[0;31m# avoid forcing order when copy_x=False\u001b[0m\u001b[0;34m\u001b[0m\u001b[0;34m\u001b[0m\u001b[0;34m\u001b[0m\u001b[0m\n\u001b[1;32m    856\u001b[0m         \u001b[0morder\u001b[0m \u001b[0;34m=\u001b[0m \u001b[0;34m\"C\"\u001b[0m \u001b[0;32mif\u001b[0m \u001b[0mself\u001b[0m\u001b[0;34m.\u001b[0m\u001b[0mcopy_x\u001b[0m \u001b[0;32melse\u001b[0m \u001b[0;32mNone\u001b[0m\u001b[0;34m\u001b[0m\u001b[0;34m\u001b[0m\u001b[0m\n\u001b[0;32m--> 857\u001b[0;31m         X = check_array(X, accept_sparse='csr', dtype=[np.float64, np.float32],\n\u001b[0m\u001b[1;32m    858\u001b[0m                         order=order, copy=self.copy_x)\n\u001b[1;32m    859\u001b[0m         \u001b[0;31m# verify that the number of samples given is larger than k\u001b[0m\u001b[0;34m\u001b[0m\u001b[0;34m\u001b[0m\u001b[0;34m\u001b[0m\u001b[0m\n",
      "\u001b[0;32m~/.pyenv/versions/3.8.6/envs/lewagon/lib/python3.8/site-packages/sklearn/utils/validation.py\u001b[0m in \u001b[0;36mcheck_array\u001b[0;34m(array, accept_sparse, accept_large_sparse, dtype, order, copy, force_all_finite, ensure_2d, allow_nd, ensure_min_samples, ensure_min_features, warn_on_dtype, estimator)\u001b[0m\n\u001b[1;32m    513\u001b[0m                     \u001b[0marray\u001b[0m \u001b[0;34m=\u001b[0m \u001b[0marray\u001b[0m\u001b[0;34m.\u001b[0m\u001b[0mastype\u001b[0m\u001b[0;34m(\u001b[0m\u001b[0mdtype\u001b[0m\u001b[0;34m,\u001b[0m \u001b[0mcasting\u001b[0m\u001b[0;34m=\u001b[0m\u001b[0;34m\"unsafe\"\u001b[0m\u001b[0;34m,\u001b[0m \u001b[0mcopy\u001b[0m\u001b[0;34m=\u001b[0m\u001b[0;32mFalse\u001b[0m\u001b[0;34m)\u001b[0m\u001b[0;34m\u001b[0m\u001b[0;34m\u001b[0m\u001b[0m\n\u001b[1;32m    514\u001b[0m                 \u001b[0;32melse\u001b[0m\u001b[0;34m:\u001b[0m\u001b[0;34m\u001b[0m\u001b[0;34m\u001b[0m\u001b[0m\n\u001b[0;32m--> 515\u001b[0;31m                     \u001b[0marray\u001b[0m \u001b[0;34m=\u001b[0m \u001b[0mnp\u001b[0m\u001b[0;34m.\u001b[0m\u001b[0masarray\u001b[0m\u001b[0;34m(\u001b[0m\u001b[0marray\u001b[0m\u001b[0;34m,\u001b[0m \u001b[0morder\u001b[0m\u001b[0;34m=\u001b[0m\u001b[0morder\u001b[0m\u001b[0;34m,\u001b[0m \u001b[0mdtype\u001b[0m\u001b[0;34m=\u001b[0m\u001b[0mdtype\u001b[0m\u001b[0;34m)\u001b[0m\u001b[0;34m\u001b[0m\u001b[0;34m\u001b[0m\u001b[0m\n\u001b[0m\u001b[1;32m    516\u001b[0m             \u001b[0;32mexcept\u001b[0m \u001b[0mComplexWarning\u001b[0m\u001b[0;34m:\u001b[0m\u001b[0;34m\u001b[0m\u001b[0;34m\u001b[0m\u001b[0m\n\u001b[1;32m    517\u001b[0m                 raise ValueError(\"Complex data not supported\\n\"\n",
      "\u001b[0;32m~/.pyenv/versions/3.8.6/envs/lewagon/lib/python3.8/site-packages/numpy/core/_asarray.py\u001b[0m in \u001b[0;36masarray\u001b[0;34m(a, dtype, order)\u001b[0m\n\u001b[1;32m     83\u001b[0m \u001b[0;34m\u001b[0m\u001b[0m\n\u001b[1;32m     84\u001b[0m     \"\"\"\n\u001b[0;32m---> 85\u001b[0;31m     \u001b[0;32mreturn\u001b[0m \u001b[0marray\u001b[0m\u001b[0;34m(\u001b[0m\u001b[0ma\u001b[0m\u001b[0;34m,\u001b[0m \u001b[0mdtype\u001b[0m\u001b[0;34m,\u001b[0m \u001b[0mcopy\u001b[0m\u001b[0;34m=\u001b[0m\u001b[0;32mFalse\u001b[0m\u001b[0;34m,\u001b[0m \u001b[0morder\u001b[0m\u001b[0;34m=\u001b[0m\u001b[0morder\u001b[0m\u001b[0;34m)\u001b[0m\u001b[0;34m\u001b[0m\u001b[0;34m\u001b[0m\u001b[0m\n\u001b[0m\u001b[1;32m     86\u001b[0m \u001b[0;34m\u001b[0m\u001b[0m\n\u001b[1;32m     87\u001b[0m \u001b[0;34m\u001b[0m\u001b[0m\n",
      "\u001b[0;32m~/.pyenv/versions/3.8.6/envs/lewagon/lib/python3.8/site-packages/pandas/core/series.py\u001b[0m in \u001b[0;36m__array__\u001b[0;34m(self, dtype)\u001b[0m\n\u001b[1;32m    737\u001b[0m               dtype='datetime64[ns]')\n\u001b[1;32m    738\u001b[0m         \"\"\"\n\u001b[0;32m--> 739\u001b[0;31m         \u001b[0;32mreturn\u001b[0m \u001b[0mnp\u001b[0m\u001b[0;34m.\u001b[0m\u001b[0masarray\u001b[0m\u001b[0;34m(\u001b[0m\u001b[0mself\u001b[0m\u001b[0;34m.\u001b[0m\u001b[0marray\u001b[0m\u001b[0;34m,\u001b[0m \u001b[0mdtype\u001b[0m\u001b[0;34m)\u001b[0m\u001b[0;34m\u001b[0m\u001b[0;34m\u001b[0m\u001b[0m\n\u001b[0m\u001b[1;32m    740\u001b[0m \u001b[0;34m\u001b[0m\u001b[0m\n\u001b[1;32m    741\u001b[0m     \u001b[0;31m# ----------------------------------------------------------------------\u001b[0m\u001b[0;34m\u001b[0m\u001b[0;34m\u001b[0m\u001b[0;34m\u001b[0m\u001b[0m\n",
      "\u001b[0;32m~/.pyenv/versions/3.8.6/envs/lewagon/lib/python3.8/site-packages/numpy/core/_asarray.py\u001b[0m in \u001b[0;36masarray\u001b[0;34m(a, dtype, order)\u001b[0m\n\u001b[1;32m     83\u001b[0m \u001b[0;34m\u001b[0m\u001b[0m\n\u001b[1;32m     84\u001b[0m     \"\"\"\n\u001b[0;32m---> 85\u001b[0;31m     \u001b[0;32mreturn\u001b[0m \u001b[0marray\u001b[0m\u001b[0;34m(\u001b[0m\u001b[0ma\u001b[0m\u001b[0;34m,\u001b[0m \u001b[0mdtype\u001b[0m\u001b[0;34m,\u001b[0m \u001b[0mcopy\u001b[0m\u001b[0;34m=\u001b[0m\u001b[0;32mFalse\u001b[0m\u001b[0;34m,\u001b[0m \u001b[0morder\u001b[0m\u001b[0;34m=\u001b[0m\u001b[0morder\u001b[0m\u001b[0;34m)\u001b[0m\u001b[0;34m\u001b[0m\u001b[0;34m\u001b[0m\u001b[0m\n\u001b[0m\u001b[1;32m     86\u001b[0m \u001b[0;34m\u001b[0m\u001b[0m\n\u001b[1;32m     87\u001b[0m \u001b[0;34m\u001b[0m\u001b[0m\n",
      "\u001b[0;32m~/.pyenv/versions/3.8.6/envs/lewagon/lib/python3.8/site-packages/pandas/core/arrays/numpy_.py\u001b[0m in \u001b[0;36m__array__\u001b[0;34m(self, dtype)\u001b[0m\n\u001b[1;32m    201\u001b[0m \u001b[0;34m\u001b[0m\u001b[0m\n\u001b[1;32m    202\u001b[0m     \u001b[0;32mdef\u001b[0m \u001b[0m__array__\u001b[0m\u001b[0;34m(\u001b[0m\u001b[0mself\u001b[0m\u001b[0;34m,\u001b[0m \u001b[0mdtype\u001b[0m\u001b[0;34m=\u001b[0m\u001b[0;32mNone\u001b[0m\u001b[0;34m)\u001b[0m \u001b[0;34m->\u001b[0m \u001b[0mnp\u001b[0m\u001b[0;34m.\u001b[0m\u001b[0mndarray\u001b[0m\u001b[0;34m:\u001b[0m\u001b[0;34m\u001b[0m\u001b[0;34m\u001b[0m\u001b[0m\n\u001b[0;32m--> 203\u001b[0;31m         \u001b[0;32mreturn\u001b[0m \u001b[0mnp\u001b[0m\u001b[0;34m.\u001b[0m\u001b[0masarray\u001b[0m\u001b[0;34m(\u001b[0m\u001b[0mself\u001b[0m\u001b[0;34m.\u001b[0m\u001b[0m_ndarray\u001b[0m\u001b[0;34m,\u001b[0m \u001b[0mdtype\u001b[0m\u001b[0;34m=\u001b[0m\u001b[0mdtype\u001b[0m\u001b[0;34m)\u001b[0m\u001b[0;34m\u001b[0m\u001b[0;34m\u001b[0m\u001b[0m\n\u001b[0m\u001b[1;32m    204\u001b[0m \u001b[0;34m\u001b[0m\u001b[0m\n\u001b[1;32m    205\u001b[0m     \u001b[0m_HANDLED_TYPES\u001b[0m \u001b[0;34m=\u001b[0m \u001b[0;34m(\u001b[0m\u001b[0mnp\u001b[0m\u001b[0;34m.\u001b[0m\u001b[0mndarray\u001b[0m\u001b[0;34m,\u001b[0m \u001b[0mnumbers\u001b[0m\u001b[0;34m.\u001b[0m\u001b[0mNumber\u001b[0m\u001b[0;34m)\u001b[0m\u001b[0;34m\u001b[0m\u001b[0;34m\u001b[0m\u001b[0m\n",
      "\u001b[0;32m~/.pyenv/versions/3.8.6/envs/lewagon/lib/python3.8/site-packages/numpy/core/_asarray.py\u001b[0m in \u001b[0;36masarray\u001b[0;34m(a, dtype, order)\u001b[0m\n\u001b[1;32m     83\u001b[0m \u001b[0;34m\u001b[0m\u001b[0m\n\u001b[1;32m     84\u001b[0m     \"\"\"\n\u001b[0;32m---> 85\u001b[0;31m     \u001b[0;32mreturn\u001b[0m \u001b[0marray\u001b[0m\u001b[0;34m(\u001b[0m\u001b[0ma\u001b[0m\u001b[0;34m,\u001b[0m \u001b[0mdtype\u001b[0m\u001b[0;34m,\u001b[0m \u001b[0mcopy\u001b[0m\u001b[0;34m=\u001b[0m\u001b[0;32mFalse\u001b[0m\u001b[0;34m,\u001b[0m \u001b[0morder\u001b[0m\u001b[0;34m=\u001b[0m\u001b[0morder\u001b[0m\u001b[0;34m)\u001b[0m\u001b[0;34m\u001b[0m\u001b[0;34m\u001b[0m\u001b[0m\n\u001b[0m\u001b[1;32m     86\u001b[0m \u001b[0;34m\u001b[0m\u001b[0m\n\u001b[1;32m     87\u001b[0m \u001b[0;34m\u001b[0m\u001b[0m\n",
      "\u001b[0;31mValueError\u001b[0m: could not convert string to float: 'D'"
     ]
    }
   ],
   "source": [
    "from sklearn.cluster import KMeans\n",
    "km = KMeans(n_clusters=4)\n",
    "km.fit(customers.Segmentation)"
   ]
  },
  {
   "cell_type": "markdown",
   "metadata": {},
   "source": [
    "**💾 Save your results**\n",
    "\n",
    "Run the following cell to save your results."
   ]
  },
  {
   "cell_type": "code",
   "execution_count": null,
   "metadata": {},
   "outputs": [],
   "source": [
    "ChallengeResult('clusters', n_clusters=n_clusters).write()"
   ]
  },
  {
   "cell_type": "markdown",
   "metadata": {},
   "source": [
    "### Segment D statistics\n",
    "\n",
    "In addition the marketing team is really interested in the **segment D** so you will have to answer some questions about it. \n",
    "\n",
    "To do so, we are considering a binary segmentation: **D vs the rest**. Download the `customers_encoded.csv` dataset from this [URL](https://wagon-public-datasets.s3.amazonaws.com/certification_paris_2021Q1/customers_encoded.csv) and store it into the `data` folder."
   ]
  },
  {
   "cell_type": "markdown",
   "metadata": {},
   "source": [
    "#### Loading data"
   ]
  },
  {
   "cell_type": "code",
   "execution_count": 75,
   "metadata": {
    "ExecuteTime": {
     "end_time": "2021-04-06T08:45:12.884665Z",
     "start_time": "2021-04-06T08:45:12.808693Z"
    }
   },
   "outputs": [
    {
     "data": {
      "text/html": [
       "<div>\n",
       "<style scoped>\n",
       "    .dataframe tbody tr th:only-of-type {\n",
       "        vertical-align: middle;\n",
       "    }\n",
       "\n",
       "    .dataframe tbody tr th {\n",
       "        vertical-align: top;\n",
       "    }\n",
       "\n",
       "    .dataframe thead th {\n",
       "        text-align: right;\n",
       "    }\n",
       "</style>\n",
       "<table border=\"1\" class=\"dataframe\">\n",
       "  <thead>\n",
       "    <tr style=\"text-align: right;\">\n",
       "      <th></th>\n",
       "      <th>ID</th>\n",
       "      <th>Gender</th>\n",
       "      <th>Ever_Married</th>\n",
       "      <th>Age</th>\n",
       "      <th>Graduated</th>\n",
       "      <th>Profession</th>\n",
       "      <th>Work_Experience</th>\n",
       "      <th>Spending_Score</th>\n",
       "      <th>Family_Size</th>\n",
       "      <th>Segmentation</th>\n",
       "      <th>is_D</th>\n",
       "    </tr>\n",
       "  </thead>\n",
       "  <tbody>\n",
       "    <tr>\n",
       "      <th>0</th>\n",
       "      <td>462809</td>\n",
       "      <td>Male</td>\n",
       "      <td>No</td>\n",
       "      <td>22</td>\n",
       "      <td>No</td>\n",
       "      <td>Healthcare</td>\n",
       "      <td>1.0</td>\n",
       "      <td>Low</td>\n",
       "      <td>4.0</td>\n",
       "      <td>D</td>\n",
       "      <td>1</td>\n",
       "    </tr>\n",
       "    <tr>\n",
       "      <th>1</th>\n",
       "      <td>462643</td>\n",
       "      <td>Female</td>\n",
       "      <td>Yes</td>\n",
       "      <td>38</td>\n",
       "      <td>Yes</td>\n",
       "      <td>Engineer</td>\n",
       "      <td>NaN</td>\n",
       "      <td>Average</td>\n",
       "      <td>3.0</td>\n",
       "      <td>A</td>\n",
       "      <td>0</td>\n",
       "    </tr>\n",
       "    <tr>\n",
       "      <th>2</th>\n",
       "      <td>466315</td>\n",
       "      <td>Female</td>\n",
       "      <td>Yes</td>\n",
       "      <td>67</td>\n",
       "      <td>Yes</td>\n",
       "      <td>Engineer</td>\n",
       "      <td>1.0</td>\n",
       "      <td>Low</td>\n",
       "      <td>1.0</td>\n",
       "      <td>B</td>\n",
       "      <td>0</td>\n",
       "    </tr>\n",
       "    <tr>\n",
       "      <th>3</th>\n",
       "      <td>461735</td>\n",
       "      <td>Male</td>\n",
       "      <td>Yes</td>\n",
       "      <td>67</td>\n",
       "      <td>Yes</td>\n",
       "      <td>Lawyer</td>\n",
       "      <td>0.0</td>\n",
       "      <td>High</td>\n",
       "      <td>2.0</td>\n",
       "      <td>B</td>\n",
       "      <td>0</td>\n",
       "    </tr>\n",
       "    <tr>\n",
       "      <th>4</th>\n",
       "      <td>462669</td>\n",
       "      <td>Female</td>\n",
       "      <td>Yes</td>\n",
       "      <td>40</td>\n",
       "      <td>Yes</td>\n",
       "      <td>Entertainment</td>\n",
       "      <td>NaN</td>\n",
       "      <td>High</td>\n",
       "      <td>6.0</td>\n",
       "      <td>A</td>\n",
       "      <td>0</td>\n",
       "    </tr>\n",
       "    <tr>\n",
       "      <th>...</th>\n",
       "      <td>...</td>\n",
       "      <td>...</td>\n",
       "      <td>...</td>\n",
       "      <td>...</td>\n",
       "      <td>...</td>\n",
       "      <td>...</td>\n",
       "      <td>...</td>\n",
       "      <td>...</td>\n",
       "      <td>...</td>\n",
       "      <td>...</td>\n",
       "      <td>...</td>\n",
       "    </tr>\n",
       "    <tr>\n",
       "      <th>8063</th>\n",
       "      <td>464018</td>\n",
       "      <td>Male</td>\n",
       "      <td>No</td>\n",
       "      <td>22</td>\n",
       "      <td>No</td>\n",
       "      <td>NaN</td>\n",
       "      <td>0.0</td>\n",
       "      <td>Low</td>\n",
       "      <td>7.0</td>\n",
       "      <td>D</td>\n",
       "      <td>1</td>\n",
       "    </tr>\n",
       "    <tr>\n",
       "      <th>8064</th>\n",
       "      <td>464685</td>\n",
       "      <td>Male</td>\n",
       "      <td>No</td>\n",
       "      <td>35</td>\n",
       "      <td>No</td>\n",
       "      <td>Executive</td>\n",
       "      <td>3.0</td>\n",
       "      <td>Low</td>\n",
       "      <td>4.0</td>\n",
       "      <td>D</td>\n",
       "      <td>1</td>\n",
       "    </tr>\n",
       "    <tr>\n",
       "      <th>8065</th>\n",
       "      <td>465406</td>\n",
       "      <td>Female</td>\n",
       "      <td>No</td>\n",
       "      <td>33</td>\n",
       "      <td>Yes</td>\n",
       "      <td>Healthcare</td>\n",
       "      <td>1.0</td>\n",
       "      <td>Low</td>\n",
       "      <td>1.0</td>\n",
       "      <td>D</td>\n",
       "      <td>1</td>\n",
       "    </tr>\n",
       "    <tr>\n",
       "      <th>8066</th>\n",
       "      <td>467299</td>\n",
       "      <td>Female</td>\n",
       "      <td>No</td>\n",
       "      <td>27</td>\n",
       "      <td>Yes</td>\n",
       "      <td>Healthcare</td>\n",
       "      <td>1.0</td>\n",
       "      <td>Low</td>\n",
       "      <td>4.0</td>\n",
       "      <td>B</td>\n",
       "      <td>0</td>\n",
       "    </tr>\n",
       "    <tr>\n",
       "      <th>8067</th>\n",
       "      <td>461879</td>\n",
       "      <td>Male</td>\n",
       "      <td>Yes</td>\n",
       "      <td>37</td>\n",
       "      <td>Yes</td>\n",
       "      <td>Executive</td>\n",
       "      <td>0.0</td>\n",
       "      <td>Average</td>\n",
       "      <td>3.0</td>\n",
       "      <td>B</td>\n",
       "      <td>0</td>\n",
       "    </tr>\n",
       "  </tbody>\n",
       "</table>\n",
       "<p>8068 rows × 11 columns</p>\n",
       "</div>"
      ],
      "text/plain": [
       "          ID  Gender Ever_Married  Age Graduated     Profession  \\\n",
       "0     462809    Male           No   22        No     Healthcare   \n",
       "1     462643  Female          Yes   38       Yes       Engineer   \n",
       "2     466315  Female          Yes   67       Yes       Engineer   \n",
       "3     461735    Male          Yes   67       Yes         Lawyer   \n",
       "4     462669  Female          Yes   40       Yes  Entertainment   \n",
       "...      ...     ...          ...  ...       ...            ...   \n",
       "8063  464018    Male           No   22        No            NaN   \n",
       "8064  464685    Male           No   35        No      Executive   \n",
       "8065  465406  Female           No   33       Yes     Healthcare   \n",
       "8066  467299  Female           No   27       Yes     Healthcare   \n",
       "8067  461879    Male          Yes   37       Yes      Executive   \n",
       "\n",
       "      Work_Experience Spending_Score  Family_Size Segmentation  is_D  \n",
       "0                 1.0            Low          4.0            D     1  \n",
       "1                 NaN        Average          3.0            A     0  \n",
       "2                 1.0            Low          1.0            B     0  \n",
       "3                 0.0           High          2.0            B     0  \n",
       "4                 NaN           High          6.0            A     0  \n",
       "...               ...            ...          ...          ...   ...  \n",
       "8063              0.0            Low          7.0            D     1  \n",
       "8064              3.0            Low          4.0            D     1  \n",
       "8065              1.0            Low          1.0            D     1  \n",
       "8066              1.0            Low          4.0            B     0  \n",
       "8067              0.0        Average          3.0            B     0  \n",
       "\n",
       "[8068 rows x 11 columns]"
      ]
     },
     "execution_count": 75,
     "metadata": {},
     "output_type": "execute_result"
    }
   ],
   "source": [
    "# Load the data and display the first rows\n",
    "customer_encoded = pd.read_csv('data/customers_encoded.csv')\n",
    "customer_encoded"
   ]
  },
  {
   "cell_type": "markdown",
   "metadata": {},
   "source": [
    "After loading the data you can see a new column `is_D` which take the value `1` if the customer belongs to the segment D, `0` otherwise."
   ]
  },
  {
   "cell_type": "markdown",
   "metadata": {},
   "source": [
    "#### Age analysis of segment D\n",
    "\n",
    "❓ Using a statistical test, show that customers from segment D are **statistically younger** than the whole customers. \n",
    "\n",
    "Store the $p-value$ of your test inside a `p_value` variable."
   ]
  },
  {
   "cell_type": "code",
   "execution_count": 76,
   "metadata": {
    "ExecuteTime": {
     "end_time": "2021-04-06T08:48:12.804321Z",
     "start_time": "2021-04-06T08:48:12.791759Z"
    }
   },
   "outputs": [],
   "source": [
    "# Test\n",
    "D_cust = customer_encoded[customer_encoded.is_D==1]\n",
    "not_D_cust = customer_encoded[customer_encoded.is_D==0]"
   ]
  },
  {
   "cell_type": "code",
   "execution_count": 78,
   "metadata": {
    "ExecuteTime": {
     "end_time": "2021-04-06T08:48:50.968486Z",
     "start_time": "2021-04-06T08:48:50.955662Z"
    }
   },
   "outputs": [
    {
     "data": {
      "text/plain": [
       "33.39021164021164"
      ]
     },
     "execution_count": 78,
     "metadata": {},
     "output_type": "execute_result"
    }
   ],
   "source": [
    "age_d = D_cust.Age.mean()\n",
    "age_d"
   ]
  },
  {
   "cell_type": "code",
   "execution_count": 79,
   "metadata": {
    "ExecuteTime": {
     "end_time": "2021-04-06T08:49:04.452768Z",
     "start_time": "2021-04-06T08:49:04.441428Z"
    }
   },
   "outputs": [
    {
     "data": {
      "text/plain": [
       "47.40724137931034"
      ]
     },
     "execution_count": 79,
     "metadata": {},
     "output_type": "execute_result"
    }
   ],
   "source": [
    "not_D_cust.Age.mean()"
   ]
  },
  {
   "cell_type": "code",
   "execution_count": null,
   "metadata": {},
   "outputs": [],
   "source": [
    "# p_value"
   ]
  },
  {
   "cell_type": "markdown",
   "metadata": {},
   "source": [
    "#### Segment D odds analysis\n",
    "\n",
    "❓ What are the **odds** for a customer to be in the segment D?\n",
    "\n",
    "Store the result inside a `odds` variable."
   ]
  },
  {
   "cell_type": "code",
   "execution_count": null,
   "metadata": {},
   "outputs": [],
   "source": [
    "# odds"
   ]
  },
  {
   "cell_type": "markdown",
   "metadata": {},
   "source": [
    "❓ Considering a **married and graduated** customer, how are the odds of being part of segment D **multiplied** while **increasing** the age by 1 year?\n",
    "\n",
    "Store the result inside a `odds_variation` variable."
   ]
  },
  {
   "cell_type": "code",
   "execution_count": null,
   "metadata": {},
   "outputs": [],
   "source": [
    "# odds_variation"
   ]
  },
  {
   "cell_type": "markdown",
   "metadata": {},
   "source": [
    "####  💾 Save your results\n",
    "\n",
    "Run the following cell to save your results."
   ]
  },
  {
   "cell_type": "code",
   "execution_count": null,
   "metadata": {},
   "outputs": [],
   "source": [
    "ChallengeResult('segment_d', p_value=p_value, odds=odds, gap=odds_variation).write()"
   ]
  },
  {
   "cell_type": "markdown",
   "metadata": {},
   "source": [
    "**⚠️ Save your notebook then commit and push your code on GitHub**"
   ]
  }
 ],
 "metadata": {
  "hide_input": false,
  "kernelspec": {
   "display_name": "Python 3",
   "language": "python",
   "name": "python3"
  },
  "language_info": {
   "codemirror_mode": {
    "name": "ipython",
    "version": 3
   },
   "file_extension": ".py",
   "mimetype": "text/x-python",
   "name": "python",
   "nbconvert_exporter": "python",
   "pygments_lexer": "ipython3",
   "version": "3.8.6"
  },
  "toc": {
   "base_numbering": 1,
   "nav_menu": {},
   "number_sections": true,
   "sideBar": true,
   "skip_h1_title": true,
   "title_cell": "Table of Contents",
   "title_sidebar": "Contents",
   "toc_cell": false,
   "toc_position": {
    "height": "calc(100% - 180px)",
    "left": "10px",
    "top": "150px",
    "width": "208.75px"
   },
   "toc_section_display": true,
   "toc_window_display": true
  },
  "varInspector": {
   "cols": {
    "lenName": 16,
    "lenType": 16,
    "lenVar": 40
   },
   "kernels_config": {
    "python": {
     "delete_cmd_postfix": "",
     "delete_cmd_prefix": "del ",
     "library": "var_list.py",
     "varRefreshCmd": "print(var_dic_list())"
    },
    "r": {
     "delete_cmd_postfix": ") ",
     "delete_cmd_prefix": "rm(",
     "library": "var_list.r",
     "varRefreshCmd": "cat(var_dic_list()) "
    }
   },
   "types_to_exclude": [
    "module",
    "function",
    "builtin_function_or_method",
    "instance",
    "_Feature"
   ],
   "window_display": false
  }
 },
 "nbformat": 4,
 "nbformat_minor": 4
}
